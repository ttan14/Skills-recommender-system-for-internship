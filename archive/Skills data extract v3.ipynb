{
 "cells": [
  {
   "cell_type": "code",
   "execution_count": 29,
   "id": "0ec5c464",
   "metadata": {},
   "outputs": [],
   "source": [
    "#!pip install tika\n",
    "from tika import parser \n",
    "import os, sys\n",
    "import pandas as pd"
   ]
  },
  {
   "cell_type": "code",
   "execution_count": null,
   "id": "b7904d81",
   "metadata": {},
   "outputs": [],
   "source": [
    "data= "
   ]
  },
  {
   "cell_type": "code",
   "execution_count": null,
   "id": "05b606ac",
   "metadata": {},
   "outputs": [],
   "source": [
    "###dont use this\n",
    "start = data.find('Generic Skills and Competencies \\n\\n') + len('Generic Skills and Competencies \\n\\n')\n",
    "end = data.find('\\n\\nProgramme', start)\n",
    "skillsdata = pd.Series([data[start:end]])\n",
    "skillsdata.str.rsplit(\" \\n\\n\", expand=True)"
   ]
  },
  {
   "cell_type": "code",
   "execution_count": 30,
   "id": "79a73b86",
   "metadata": {},
   "outputs": [],
   "source": [
    "def listToString(s): \n",
    "    str1 = \" \" \n",
    "    return (str1.join(s))\n",
    "\n",
    "\n",
    "def pull_skills(x):\n",
    "    set=[]\n",
    "    skill=\"\"\n",
    "    for word in x:\n",
    "        if word=='Level':\n",
    "            skill=x[:x.index(word)+2]\n",
    "            set.append((listToString(skill)),)\n",
    "            x=x[x.index(word)+2:]\n",
    "            skill=\"\"\n",
    "        elif word=='Beginner' or word=='Intermediate' or word=='Advanced':\n",
    "            skill=x[:x.index(word)+1]\n",
    "            set.append((listToString(skill)),)\n",
    "            x=x[x.index(word)+1:]\n",
    "            skill=\"\"\n",
    "        else:\n",
    "            skill += word\n",
    "    return set\n",
    "\n",
    "                           \n",
    "#print(pull_skills(x)) \n"
   ]
  },
  {
   "cell_type": "code",
   "execution_count": 41,
   "id": "fc16bb16",
   "metadata": {},
   "outputs": [],
   "source": [
    "#get other relevant fields from 1 JD document \n",
    "def pull_other(fieldname, data2):\n",
    "    start = data2.find(fieldname) + len(fieldname)\n",
    "    end = data2.find(' \\n\\n', start)\n",
    "    x = data2[start:end]\n",
    "    return x\n",
    "\n",
    "#print([track,subtrack,occupation,jobrole])\n"
   ]
  },
  {
   "cell_type": "code",
   "execution_count": null,
   "id": "24e4aaa0",
   "metadata": {},
   "outputs": [],
   "source": []
  },
  {
   "cell_type": "code",
   "execution_count": 80,
   "id": "dec81c63",
   "metadata": {},
   "outputs": [
    {
     "name": "stdout",
     "output_type": "stream",
     "text": [
      "104 job scopes were found in this folder.\n",
      "['Skills Map_Software Engineer (GSC Top 5).pdf', 'Skills Map_Software Architect (GSC Top 5).pdf', 'Skills Map_AI Applied Researcher (GSC Top 5).pdf', 'Skills Map_Data Engineer (GSC Top 5).pdf', 'Skills Map_Chief Information Officer (GSC Top 5).pdf', 'Skills Map_VAPT Manager (GSC Top 5).pdf', 'Skills Map_Business Analyst-AI Translator (GSC Top 5).pdf', 'Skills Map_Head of Quality (GSC Top 5).pdf', 'Skills Map_Data Analyst Associate Data Engineer (GSC Top 5).pdf', 'Skills Map_Lead UI Designer (GSC Top 5).pdf', 'Skills Map_Incident Investigation Manager (GSC Top 5).pdf', 'Skills Map_Associate Database Support Engineer (GSC Top 5).pdf', 'Skills Map_Infrastructure Architect (GSC Top 5).pdf', 'Skills Map_Network Engineer (GSC Top 5).pdf', 'Skills Map_SysOps Engineer (GSC Top 5).pdf', 'Skills Map_Associate Embedded Systems Engineer (GSC Top 5).pdf', 'Skills Map_Business Development Manager (GSC Top 5).pdf', 'Skills Map_Head of IT Audit (GSC Top 5).pdf', 'Skills Map_Software Engineering Manager (GSC Top 5).pdf', '.DS_Store', 'Skills Map_Head of Sales (GSC Top 5).pdf', 'Skills Map_Quality Engineer (GSC Top 5).pdf', 'Skills Map_Cyber Risk Manager (GSC Top 5).pdf', 'Skills Map_Forensics Investigation Manager (GSC Top 5).pdf', 'Skills Map_CDO CDAIO (GSC Top 5).pdf', 'Skills Map_Head of Data Science AI (GSC Top 5).pdf', 'Skills Map_Customer Success Director (GSC Top 5).pdf', 'Skills Map_Threat Analysis Manager (GSC Top 5).pdf', 'Skills Map_Sales Director (GSC Top 5).pdf', 'Skills Map_Associate Business Analyst (GSC Top 5).pdf', 'Skills Map_Marketing Manager (GSC Top 5).pdf', 'Skills Map_Senior Product Manager (GSC Top 5).pdf', 'Skills Map_Lead UX Designer (GSC Top 5).pdf', 'Skills Map_Radio Frequency Engineer (GSC Top 5).pdf', 'Skills Map_Incident Investigator (GSC Top 5).pdf', 'Skills Map_Database Support Engineer (GSC Top 5).pdf', 'Skills Map_Head of Software Engineering (GSC Top 5).pdf', 'Skills Map_Head of Product (GSC Top 5).pdf', 'Skills Map_Embedded Systems Engineer (GSC Top 5).pdf', 'Skills Map_Solutions Architect (GSC Top 5).pdf', 'Skills Map_Quality Engineering Manager (GSC Top 5).pdf', 'Skills Map_BI Manager (GSC Top 5).pdf', 'Skills Map_Operations Centre Support Engineer (GSC Top 5).pdf', 'Skills Map_Associate Applications Support Engineer (GSC Top 5).pdf', 'Skills Map_Senior AI ML Engineer(GSC Top 5).pdf', 'Skills Map_IT Auditor (GSC Top 5).pdf', 'Skills Map_Data Protection Officer (GSC Top 5).pdf', 'Skills Map_Associate Software Engineer (GSC Top 5).pdf', 'Skills Map_Systems Support Engineer (GSC Top 5).pdf', 'Skills Map_Security Operations Manager (GSC Top 5).pdf', 'Skills Map_Customer Success Manager (GSC Top 5).pdf', 'Skills Map_Data Architect (GSC Top 5).pdf', 'Skills Map_Infrastructure Support Engineer (GSC Top 5).pdf', 'Skills Map_Automation and Orchestration Engineer (GSC Top 5).pdf', 'Skills Map_Project Manager Scrum Master (GSC Top 5).pdf', 'Skills Map_Associate Data Centre Operations Engineer (GSC Top 5).pdf', 'Skills Map_Embedded Systems Engineering Manager (GSC Top 5).pdf', 'Skills Map_Associate Security Analyst (GSC Top 5).pdf', 'Skills Map_Associate Infrastructure Engineer (GSC Top 5).pdf', 'Skills Map_AI ML Engineer (GSC Top 5).pdf', 'Skills Map_Associate Radio Frequency Engineer (GSC Top 5).pdf', 'Skills Map_Marketing Director (GSC Top 5).pdf', 'Skills Map_Program Manager (GSC Top 5).pdf', 'Skills Map_Associate UI Designer (GSC Top 5).pdf', 'Skills Map_Security Operations Analyst (GSC Top 5).pdf', 'Skills Map_Chief Technology Officer (GSC Top 5).pdf', 'Skills Map_Product Manager (GSC Top 5).pdf', 'Skills Map_Program Director (GSC Top 5).pdf', 'Skills Map_Marketing Executive (GSC Top 5).pdf', 'Skills Map_BI Director (GSC Top 5).pdf', 'Skills Map_UI Designer (GSC Top 5).pdf', 'Skills Map_Associate Systems Support Engineer (GSC Top 5).pdf', 'Skills Map_Applications Support Engineer (GSC Top 5).pdf', 'Skills Map_Quality Assurance Engineer (GSC Top 5).pdf', 'Skills Map_Enterprise Architect (GSC Top 5).pdf', 'Skills Map_Business Architect (GSC Top 5).pdf', 'Skills Map_Associate Infrastructure Support Engineer (GSC Top 5).pdf', 'Skills Map_Security Architect (GSC Top 5).pdf', 'Skills Map_Data Centre Operations Engineer (GSC Top 5).pdf', 'Skills Map_IT Audit Manager (GSC Top 5).pdf', 'Skills Map_Data Protection Executive (GSC Top 5).pdf', 'Skills Map_Pre-Sales Consultant (GSC Top 5).pdf', 'Skills Map_Infrastructure Engineer (GSC Top 5).pdf', 'Skills Map_Senior Data Engineer (GSC Top 5).pdf', 'Skills Map_Head of Operations and Support (GSC Top 5).pdf', 'Skills Map_Cyber Risk Analyst (GSC Top 5).pdf', 'Skills Map_Forensics Investigatior (GSC Top 5).pdf', 'Skills Map_Associate UX Designer (GSC Top 5).pdf', 'Skills Map_Head of Infrastructure (GSC Top 5).pdf', 'Skills Map_Senior Security Engineer (GSC Top 5).pdf', 'Skills Map_Sales Executive (GSC Top 5).pdf', 'Skills Map_Associate Network Engineer (GSC Top 5).pdf', 'Skills Map_Group Data Protection Officer (GSC Top 5).pdf', 'Skills Map_UX Designer (GSC Top 5).pdf', 'Skills Map_Associate Operations Centre Support Engineer (GSC Top 5).pdf', 'Skills Map_Operations and Support Manager (GSC Top 5).pdf', 'Skills Map_Channel Sales Manager (GSC Top 5).pdf', 'Skills Map_DevOps Engineer (GSC Top 5).pdf', 'Skills Map_Data AI Scientist (GSC Top 5).pdf', 'Skills Map_Sales Account Manager (GSC Top 5).pdf', 'Skills Map_Infrastructure Engineering Manager (GSC Top 5).pdf', 'Skills Map_VAPT Analyst (GSC Top 5).pdf', 'Skills Map_Quality Assurance Manager (GSC Top 5).pdf', 'Skills Map_Pre-Sales Director (GSC Top 5).pdf', 'Skills Map_CISO (GSC Top 5).pdf']\n"
     ]
    }
   ],
   "source": [
    "#####GLOBAL#####\n",
    "\n",
    "#Get file names from directory\n",
    "\n",
    "file_list=os.listdir('/Users/somethingcreative-7/Documents/Tessas Internship/code/JD + Skills')\n",
    "print (len(file_list)-1,'job scopes were found in this folder.')\n",
    "print (file_list)\n"
   ]
  },
  {
   "cell_type": "code",
   "execution_count": 34,
   "id": "af1d46f9",
   "metadata": {},
   "outputs": [
    {
     "data": {
      "text/html": [
       "<div>\n",
       "<style scoped>\n",
       "    .dataframe tbody tr th:only-of-type {\n",
       "        vertical-align: middle;\n",
       "    }\n",
       "\n",
       "    .dataframe tbody tr th {\n",
       "        vertical-align: top;\n",
       "    }\n",
       "\n",
       "    .dataframe thead th {\n",
       "        text-align: right;\n",
       "    }\n",
       "</style>\n",
       "<table border=\"1\" class=\"dataframe\">\n",
       "  <thead>\n",
       "    <tr style=\"text-align: right;\">\n",
       "      <th></th>\n",
       "      <th>Job Role</th>\n",
       "      <th>Track</th>\n",
       "      <th>Sub-track</th>\n",
       "      <th>Occupation</th>\n",
       "      <th>Relevant Skills</th>\n",
       "    </tr>\n",
       "  </thead>\n",
       "  <tbody>\n",
       "  </tbody>\n",
       "</table>\n",
       "</div>"
      ],
      "text/plain": [
       "Empty DataFrame\n",
       "Columns: [Job Role, Track, Sub-track, Occupation, Relevant Skills]\n",
       "Index: []"
      ]
     },
     "execution_count": 34,
     "metadata": {},
     "output_type": "execute_result"
    }
   ],
   "source": [
    "#create dataframe for full list of jobs with skills tagged(semi structured)\n",
    "JD_Skills_Database=[]\n",
    "df = pd.DataFrame (JD_Skills_Database, columns = ['Job Role','Track','Sub-track','Occupation', 'Relevant Skills']) \n",
    "df"
   ]
  },
  {
   "cell_type": "code",
   "execution_count": 91,
   "id": "6e7b0277",
   "metadata": {},
   "outputs": [
    {
     "name": "stdout",
     "output_type": "stream",
     "text": [
      "                                              Job Role  \\\n",
      "0                                    Software Engineer   \n",
      "1                                   Software Architect   \n",
      "2           Artificial Intelligence Applied Researcher   \n",
      "3                                        Data Engineer   \n",
      "4                            Chief Information Officer   \n",
      "..                                                 ...   \n",
      "99                  Infrastructure Engineering Manager   \n",
      "100   Vulnerability Assessment and Penetration Test...   \n",
      "101                          Quality Assurance Manager   \n",
      "102                                 Pre-Sales Director   \n",
      "103                 Chief Information Security Officer   \n",
      "\n",
      "                                                 Track  \\\n",
      "0                            Software and Applications   \n",
      "1                            Software and Applications   \n",
      "2                     Data and Artificial Intelligence   \n",
      "3                     Data and Artificial Intelligence   \n",
      "4     Infrastructure/Software and Applications/Oper...   \n",
      "..                                                 ...   \n",
      "99                                      Infrastructure   \n",
      "100                                     Cyber Security   \n",
      "101                            Strategy and Governance   \n",
      "102                                Sales and Marketing   \n",
      "103                                     Cyber Security   \n",
      "\n",
      "                                             Sub-track  \\\n",
      "0                                 Software Engineering   \n",
      "1                                 Software Engineering   \n",
      "2             Artificial Intelligence Applied Research   \n",
      "3    \\n\\n\\n\\n\\n\\n\\n\\n\\n\\n\\n\\n\\n\\n\\n\\n\\n\\n\\n\\n\\n\\n\\n...   \n",
      "4    \\n\\n\\n\\n\\n\\n\\n\\n\\n\\n\\n\\n\\n\\n\\n\\n\\n\\n\\n\\n\\n\\n\\n...   \n",
      "..                                                 ...   \n",
      "99                                  Build and Maintain   \n",
      "100   Vulnerability Assessment and Penetration Testing   \n",
      "101                                 Quality Management   \n",
      "102                                          Pre-Sales   \n",
      "103  \\n\\n\\n\\n\\n\\n\\n\\n\\n\\n\\n\\n\\n\\n\\n\\n\\n\\n\\n\\n\\n\\n\\n...   \n",
      "\n",
      "                                            Occupation  \\\n",
      "0                                    Software Engineer   \n",
      "1                                 Enterprise Architect   \n",
      "2           Artificial Intelligence Applied Researcher   \n",
      "3                                        Data Engineer   \n",
      "4     Chief Information Officer/Chief Technology Of...   \n",
      "..                                                 ...   \n",
      "99                             Infrastructure Engineer   \n",
      "100                            ICT Security Specialist   \n",
      "101                                 Quality Specialist   \n",
      "102                             ICT Sales Professional   \n",
      "103                            ICT Security Specialist   \n",
      "\n",
      "                                       Relevant Skills  \n",
      "0    [Applications Development Level 4, Computation...  \n",
      "1    [Applications Development Level 5, Communicati...  \n",
      "2    [Business Innovation Level 5, Leadership Advan...  \n",
      "3    [Business Needs Analysis Level 2, Leadership I...  \n",
      "4    [Budgeting Level 6, Leadership Advanced, Busin...  \n",
      "..                                                 ...  \n",
      "99   [Audit and Compliance Level 3, Decision Making...  \n",
      "100  [Audit and Compliance Level 3, Digital Literac...  \n",
      "101  [Applications Development Level 4, Global Mind...  \n",
      "102  [Account Management Level 4, Leadership Advanc...  \n",
      "103  [Audit and Compliance Level 5, Leadership Adva...  \n",
      "\n",
      "[104 rows x 5 columns]\n"
     ]
    }
   ],
   "source": [
    "#reading multiple pdf/passing all the pdf thru the function above to combine into 1 df\n",
    "#file_list=['Skills Map_Software Engineer (GSC Top 5).pdf', 'Skills Map_Software Architect (GSC Top 5).pdf','hello']\n",
    "\n",
    "def extract_relevant_fields(file_list,df):\n",
    "    extract= []\n",
    "\n",
    "    for docname in file_list:\n",
    "        #extract skills as string - for 1 JD PDF\n",
    "        if '.pdf' not in docname:\n",
    "            continue\n",
    "        raw = parser.from_file(docname)\n",
    "        data=data2= (raw['content'])\n",
    "        \n",
    "        #pull skills \n",
    "        start = data.find('Generic Skills and Competencies \\n\\n') + len('Generic Skills and Competencies \\n\\n')\n",
    "        end = data.find('\\n\\nProgramme', start)\n",
    "        skillsdata = data[start:end]\n",
    "        x=skillsdata.split()\n",
    "        skills= pull_skills(x)\n",
    "        #pull other fields\n",
    "        track= pull_other('Track',data2)    \n",
    "        subtrack = pull_other('Sub-track',data2)  \n",
    "        occupation = pull_other('Occupation',data2)  \n",
    "        jobrole = pull_other('Job Role',data2)  \n",
    "        #combining info and append as row in main df\n",
    "\n",
    "        dfRow = {'Job Role': jobrole, 'Track': track , 'Sub-track': subtrack, 'Occupation': occupation, 'Relevant Skills':skills}\n",
    "        extract.append(dfRow)\n",
    "        df = pd.DataFrame (extract, columns = ['Job Role','Track','Sub-track','Occupation', 'Relevant Skills']) \n",
    "\n",
    "    return df\n",
    "final= extract_relevant_fields(file_list,df)\n",
    "print((final))\n",
    "#map(extract_relevant_fields,file_list)    \n"
   ]
  },
  {
   "cell_type": "code",
   "execution_count": 92,
   "id": "bf7ce150",
   "metadata": {},
   "outputs": [],
   "source": [
    "#write extracted DF into excel\n",
    "final.to_excel(\"output.xlsx\") "
   ]
  },
  {
   "cell_type": "code",
   "execution_count": null,
   "id": "dd6a82c3",
   "metadata": {},
   "outputs": [],
   "source": []
  },
  {
   "cell_type": "code",
   "execution_count": null,
   "id": "2a4ee227",
   "metadata": {},
   "outputs": [],
   "source": [
    "#code for initial analysis?"
   ]
  }
 ],
 "metadata": {
  "kernelspec": {
   "display_name": "Python 3 (ipykernel)",
   "language": "python",
   "name": "python3"
  },
  "language_info": {
   "codemirror_mode": {
    "name": "ipython",
    "version": 3
   },
   "file_extension": ".py",
   "mimetype": "text/x-python",
   "name": "python",
   "nbconvert_exporter": "python",
   "pygments_lexer": "ipython3",
   "version": "3.9.7"
  }
 },
 "nbformat": 4,
 "nbformat_minor": 5
}
