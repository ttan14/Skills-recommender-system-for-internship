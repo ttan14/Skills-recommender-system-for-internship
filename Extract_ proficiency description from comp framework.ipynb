{
 "cells": [
  {
   "cell_type": "code",
   "execution_count": 35,
   "id": "f483a31e",
   "metadata": {},
   "outputs": [
    {
     "name": "stdout",
     "output_type": "stream",
     "text": [
      "Requirement already satisfied: pandas in /Users/somethingcreative-7/opt/anaconda3/lib/python3.9/site-packages (1.3.4)\n",
      "Requirement already satisfied: python-dateutil>=2.7.3 in /Users/somethingcreative-7/opt/anaconda3/lib/python3.9/site-packages (from pandas) (2.8.2)\n",
      "Requirement already satisfied: pytz>=2017.3 in /Users/somethingcreative-7/opt/anaconda3/lib/python3.9/site-packages (from pandas) (2021.3)\n",
      "Requirement already satisfied: numpy>=1.17.3 in /Users/somethingcreative-7/opt/anaconda3/lib/python3.9/site-packages (from pandas) (1.20.3)\n",
      "Requirement already satisfied: six>=1.5 in /Users/somethingcreative-7/opt/anaconda3/lib/python3.9/site-packages (from python-dateutil>=2.7.3->pandas) (1.16.0)\n",
      "Note: you may need to restart the kernel to use updated packages.\n"
     ]
    }
   ],
   "source": [
    "pip install pandas"
   ]
  },
  {
   "cell_type": "code",
   "execution_count": 36,
   "id": "2a8fd576",
   "metadata": {},
   "outputs": [],
   "source": [
    "import pandas as pd\n",
    "import numpy as np\n",
    "from openpyxl import Workbook\n",
    "import os, sys\n",
    "import re"
   ]
  },
  {
   "cell_type": "markdown",
   "id": "195c19fb",
   "metadata": {},
   "source": [
    "### Read excel and pull out skills Level 1 to 6 into a df"
   ]
  },
  {
   "cell_type": "code",
   "execution_count": 37,
   "id": "b78f30d9",
   "metadata": {},
   "outputs": [
    {
     "name": "stdout",
     "output_type": "stream",
     "text": [
      "136 frameworks were found in this folder.\n",
      "['Software Design.xlsx', 'Sales Strategy.xlsx', 'Audit and Compliance.xlsx', 'IT Governance.xlsx', 'Demand_Analysis.xlsx', 'Business Performance Management.xlsx', 'Embedded Systems Programming.xlsx', 'Pattern Recognition Systems.xlsx', 'Continuous Integration Continuous Deployment.xlsx', 'Strategy Planning.xlsx', 'Security Strategy.xlsx', 'Systems Design.xlsx', 'IT Standards.xlsx', 'Market Trend Analysis.xlsx', 'Failure Analysis.xlsx', 'Data Strategy.xlsx', 'Service Level Management.xlsx', 'User Interface Design.xlsx', 'Strategy Implementation.xlsx', 'Manpower Planning.xlsx', 'Business Development.xlsx', 'Database Administration.xlsx', 'IT Strategy.xlsx', 'Marketing Mix Management.xlsx', 'System Integration.xlsx', '.DS_Store', 'Infrastructure Deployment.xlsx', 'Vendor Management.xlsx', 'Content Management.xlsx', 'Contract Management.xlsx', 'Business Requirements Mapping.xlsx', 'Organisational Analysis.xlsx', 'Configuration Tracking.xlsx', 'Data Visualisation.xlsx', 'Data Analytics.xlsx', 'Embedded Systems Interface Design.xlsx', 'Disaster Recovery Management.xlsx', 'Radio Frequency Engineering.xlsx', 'User Testing and Usability Testing.xlsx', 'Quality Engineering.xlsx', 'Infrastructure Strategy.xlsx', 'Data Governance.xlsx', 'Product Management.xlsx', 'NEW.ipynb', 'Business Environment Analysis.xlsx', 'Data Sharing.xlsx', 'Embedded Systems Integration.xlsx', 'Infrastructure Design.xlsx', 'Infrastructure Support.xlsx', 'Business Innovation.xlsx', 'Procurement.xlsx', 'Security Governance.xlsx', 'Performance Management.xlsx', 'Software Configuration.xlsx', 'Security Assessment and Testing.xlsx', 'Security Programme Management.xlsx', 'Marketing Communications Plan Development.xlsx', 'Data Migration.xlsx', 'Technical Sales Support.xlsx', 'Cyber Forensics.xlsx', 'Applications Integration.xlsx', 'Research.xlsx', 'Organisational Design.xlsx', 'Software Testing.xlsx', 'Business Continuity.xlsx', 'Project Feasibility Assessment.xlsx', 'Change Management.xlsx', 'Network Security.xlsx', 'Data Design.xlsx', 'Sales Channel Management.xlsx', 'Learning and Development.xlsx', 'Quality Assurance.xlsx', 'Portfolio Management.xlsx', 'Problem Management.xlsx', 'Marketing Strategy.xlsx', 'Brand Management.xlsx', 'Media Platforms Management.xlsx', 'Solution Architecture.xlsx', 'Cloud Computing.xlsx', 'Integrated Marketing.xlsx', 'Customer Behaviour Analysis.xlsx', 'Threat Intelligence and Detection.xlsx', 'Self-Learning Systems.xlsx', 'Computational Modelling.xlsx', 'Budgeting.xlsx', 'Intelligent Reasoning.xlsx', 'Consumer Intelligence Analysis.xlsx', 'Data Engineering.xlsx', 'Customer Experience Management.xlsx', 'Data Protection Management.xlsx', 'Test Planning.xlsx', 'Security Architecture.xlsx', 'Design Thinking Practice.xlsx', 'Agile Coaching.xlsx', 'IT Asset Management.xlsx', 'Content Strategy.xlsx', 'Business Risk Management.xlsx', 'Business Agility.xlsx', 'Sustainability Management.xlsx', 'Process Validation.xlsx', 'Media Strategy Development.xlsx', 'Applications Support and Enhancement.xlsx', 'Security Administration.xlsx', '.ipynb_checkpoints', 'Text Analytics and Processing.xlsx', 'Stakeholder Management.xlsx', 'Cyber Risk Management.xlsx', 'Computer Vision Technology.xlsx', 'Crisis Management.xlsx', 'Process Improvement and Optimisation.xlsx', 'Project Management.xlsx', 'Pricing Strategy.xlsx', 'Security Education and Awareness.xlsx', 'Network Administration and Maintenance.xlsx', 'Partnership Management.xlsx', 'Network Slicing.xlsx', 'People and Performance Management.xlsx', 'Applications Development.xlsx', 'Account Management.xlsx', 'Agile Software Development.xlsx', 'Data Ethics.xlsx', 'Cyber and Data Breach Incident Management.xlsx', 'Design Concepts Generation.xlsx', 'Marketing Campaign Management.xlsx', 'Data Centre Facilities Management.xlsx', 'Business Needs Analysis.xlsx', 'Networking.xlsx', 'Emerging Technology Synthesis.xlsx', 'Control System Programming.xlsx', 'Enterprise Architecture.xlsx', 'Threat Analysis and Defence.xlsx', 'Market Research.xlsx', 'Network Configuration.xlsx', 'Quality Standards.xlsx', 'User Experience Design.xlsx', 'Business Negotiation.xlsx', 'Business Process Re-engineering.xlsx']\n"
     ]
    }
   ],
   "source": [
    "###GLOBAL###\n",
    "\n",
    "##Get file names from directory \n",
    "\n",
    "file_list=os.listdir('/Users/somethingcreative-7/Documents/Tessas Internship/code/NEW')\n",
    "print (len(file_list)-1)\n",
    "print (file_list)"
   ]
  },
  {
   "cell_type": "code",
   "execution_count": 38,
   "id": "b7dad87a",
   "metadata": {},
   "outputs": [],
   "source": [
    "##function to clean up proficiency level with no description and remove ICT-DES-xxx tagging from description\n",
    "def remnull(i):\n",
    "    if type(i[0]) ==str:\n",
    "        return str(i.values[1:])\n",
    "    else:\n",
    "        return None"
   ]
  },
  {
   "cell_type": "code",
   "execution_count": 46,
   "id": "fd8f8d7e",
   "metadata": {},
   "outputs": [],
   "source": [
    "### create new df_collated across multiple excel sheets\n",
    "\n",
    "def extract_relevant_fields(file_list):\n",
    "    extract= []\n",
    "    skills_df= pd.DataFrame(columns = ['Skill-Level','Description']) \n",
    "\n",
    "    for filename in file_list:\n",
    "        if '.xlsx' not in filename:\n",
    "            continue\n",
    "\n",
    "        ##read skills data from excel, specific cells based on current framework template/layout\n",
    "        raw = pd.read_excel(filename,sheet_name='Sheet1', usecols=\"B:G\",header=5)\n",
    "        ##extract skill name from excel, specific cell based on current framework template/layout\n",
    "        title = pd.read_excel(filename, usecols = \"B\", header = 2, nrows=0)\n",
    "        title = title.columns.values[0]\n",
    "        ## Pull out skill name+level and skill description into new df\n",
    "        for (columnName, columnData) in raw.iteritems():\n",
    "            columnName=columnName.replace(\" \",'')\n",
    "            skillname=str(title)+'-'+columnName \n",
    "            new_row= {'Skill-Level': skillname, 'Description': remnull(columnData)}\n",
    "            skills_df = skills_df.append(new_row, ignore_index=True)\n",
    "\n",
    "\n",
    "        #combining info and append as row in main df\n",
    "\n",
    "        #dfRow = {'Job Role': jobrole, 'Track': track , 'Sub-track': subtrack, 'Occupation': occupation, 'Relevant Skills':skills}\n",
    "        #extract.append(dfRow)\n",
    "        #df = pd.DataFrame (extract, columns = ['Job Role','Track','Sub-track','Occupation', 'Relevant Skills']) \n",
    "\n",
    "    return skills_df\n",
    "skills_df= extract_relevant_fields(file_list)\n",
    "#map(extract_relevant_fields,file_list)    \n"
   ]
  },
  {
   "cell_type": "markdown",
   "id": "972c51e7",
   "metadata": {},
   "source": [
    "### for each column of raw df (i.e. each 'Level' of current skill excel), save to new data frame as 1 row"
   ]
  },
  {
   "cell_type": "code",
   "execution_count": 47,
   "id": "739a703c",
   "metadata": {},
   "outputs": [
    {
     "data": {
      "text/html": [
       "<div>\n",
       "<style scoped>\n",
       "    .dataframe tbody tr th:only-of-type {\n",
       "        vertical-align: middle;\n",
       "    }\n",
       "\n",
       "    .dataframe tbody tr th {\n",
       "        vertical-align: top;\n",
       "    }\n",
       "\n",
       "    .dataframe thead th {\n",
       "        text-align: right;\n",
       "    }\n",
       "</style>\n",
       "<table border=\"1\" class=\"dataframe\">\n",
       "  <thead>\n",
       "    <tr style=\"text-align: right;\">\n",
       "      <th></th>\n",
       "      <th>Level</th>\n",
       "      <th>Description</th>\n",
       "    </tr>\n",
       "  </thead>\n",
       "  <tbody>\n",
       "    <tr>\n",
       "      <th>0</th>\n",
       "      <td>Software Design-Level1</td>\n",
       "      <td>None</td>\n",
       "    </tr>\n",
       "    <tr>\n",
       "      <th>1</th>\n",
       "      <td>Software Design-Level2</td>\n",
       "      <td>None</td>\n",
       "    </tr>\n",
       "    <tr>\n",
       "      <th>2</th>\n",
       "      <td>Software Design-Level3</td>\n",
       "      <td>['Design simple software components, assessing...</td>\n",
       "    </tr>\n",
       "    <tr>\n",
       "      <th>3</th>\n",
       "      <td>Software Design-Level4</td>\n",
       "      <td>['Create a software design blueprint based on ...</td>\n",
       "    </tr>\n",
       "    <tr>\n",
       "      <th>4</th>\n",
       "      <td>Software Design-Level5</td>\n",
       "      <td>['Translate complex software ideas and concept...</td>\n",
       "    </tr>\n",
       "  </tbody>\n",
       "</table>\n",
       "</div>"
      ],
      "text/plain": [
       "                    Level                                        Description\n",
       "0  Software Design-Level1                                               None\n",
       "1  Software Design-Level2                                               None\n",
       "2  Software Design-Level3  ['Design simple software components, assessing...\n",
       "3  Software Design-Level4  ['Create a software design blueprint based on ...\n",
       "4  Software Design-Level5  ['Translate complex software ideas and concept..."
      ]
     },
     "execution_count": 47,
     "metadata": {},
     "output_type": "execute_result"
    }
   ],
   "source": [
    "skills_df.head()"
   ]
  },
  {
   "cell_type": "code",
   "execution_count": 48,
   "id": "ccc39e03",
   "metadata": {},
   "outputs": [
    {
     "data": {
      "text/plain": [
       "(804, 2)"
      ]
     },
     "execution_count": 48,
     "metadata": {},
     "output_type": "execute_result"
    }
   ],
   "source": [
    "skills_df.shape"
   ]
  },
  {
   "cell_type": "markdown",
   "id": "a4f44ce7",
   "metadata": {},
   "source": [
    "## further data cleaning"
   ]
  },
  {
   "cell_type": "code",
   "execution_count": 49,
   "id": "1ad890f3",
   "metadata": {},
   "outputs": [],
   "source": [
    "#remove non words from the proficiency description\n",
    "skills_df['clean']=skills_df['Description']\n",
    "for i in skills_df['Description']:\n",
    "    index= skills_df.index[skills_df['Description'] == i]\n",
    "    if type(i)==str:\n",
    "        new = re.sub(r'\\W+', ' ', str(i))\n",
    "        new = new.replace('xa0',' ')\n",
    "        new = new.replace('\\n',' ')\n",
    "        new = new.replace('     nan',' ')\n",
    "        new = new.replace('nan ',' ')\n",
    "        new = re.sub(r'\\W+', ' ', new)\n",
    "        skills_df.at[index, 'clean']=new"
   ]
  },
  {
   "cell_type": "code",
   "execution_count": 53,
   "id": "0e2785e7",
   "metadata": {},
   "outputs": [
    {
     "data": {
      "text/html": [
       "<div>\n",
       "<style scoped>\n",
       "    .dataframe tbody tr th:only-of-type {\n",
       "        vertical-align: middle;\n",
       "    }\n",
       "\n",
       "    .dataframe tbody tr th {\n",
       "        vertical-align: top;\n",
       "    }\n",
       "\n",
       "    .dataframe thead th {\n",
       "        text-align: right;\n",
       "    }\n",
       "</style>\n",
       "<table border=\"1\" class=\"dataframe\">\n",
       "  <thead>\n",
       "    <tr style=\"text-align: right;\">\n",
       "      <th></th>\n",
       "      <th>Level</th>\n",
       "      <th>Description</th>\n",
       "      <th>clean</th>\n",
       "    </tr>\n",
       "  </thead>\n",
       "  <tbody>\n",
       "    <tr>\n",
       "      <th>799</th>\n",
       "      <td>Business Process Re-engineering-Level2</td>\n",
       "      <td>None</td>\n",
       "      <td>None</td>\n",
       "    </tr>\n",
       "    <tr>\n",
       "      <th>800</th>\n",
       "      <td>Business Process Re-engineering-Level3</td>\n",
       "      <td>None</td>\n",
       "      <td>None</td>\n",
       "    </tr>\n",
       "    <tr>\n",
       "      <th>801</th>\n",
       "      <td>Business Process Re-engineering-Level4</td>\n",
       "      <td>['Evaluate business processes and workflows, a...</td>\n",
       "      <td>Evaluate business processes and workflows and...</td>\n",
       "    </tr>\n",
       "    <tr>\n",
       "      <th>802</th>\n",
       "      <td>Business Process Re-engineering-Level5</td>\n",
       "      <td>['Establish a business process re-engineering ...</td>\n",
       "      <td>Establish a business process re engineering s...</td>\n",
       "    </tr>\n",
       "    <tr>\n",
       "      <th>803</th>\n",
       "      <td>Business Process Re-engineering-Level6</td>\n",
       "      <td>None</td>\n",
       "      <td>None</td>\n",
       "    </tr>\n",
       "  </tbody>\n",
       "</table>\n",
       "</div>"
      ],
      "text/plain": [
       "                                      Level  \\\n",
       "799  Business Process Re-engineering-Level2   \n",
       "800  Business Process Re-engineering-Level3   \n",
       "801  Business Process Re-engineering-Level4   \n",
       "802  Business Process Re-engineering-Level5   \n",
       "803  Business Process Re-engineering-Level6   \n",
       "\n",
       "                                           Description  \\\n",
       "799                                               None   \n",
       "800                                               None   \n",
       "801  ['Evaluate business processes and workflows, a...   \n",
       "802  ['Establish a business process re-engineering ...   \n",
       "803                                               None   \n",
       "\n",
       "                                                 clean  \n",
       "799                                               None  \n",
       "800                                               None  \n",
       "801   Evaluate business processes and workflows and...  \n",
       "802   Establish a business process re engineering s...  \n",
       "803                                               None  "
      ]
     },
     "execution_count": 53,
     "metadata": {},
     "output_type": "execute_result"
    }
   ],
   "source": [
    "skills_df.tail()"
   ]
  },
  {
   "cell_type": "code",
   "execution_count": 51,
   "id": "2233cfea",
   "metadata": {},
   "outputs": [
    {
     "data": {
      "text/plain": [
       "' Evaluate service levels and oversee improvements to enhance service performance Contract management processes Negotiation tools and techniques Quality of Service QoS parameters and measures Service improvement programme design methods Service recovery policies and methods Stakeholder relationship development concepts and techniques Negotiate service level requirements and manage contracts Develop relationships with service providers and customers Spearhead implementation of service management framework Establish measures and controls to achieve desired service levels Create processes and procedures to enable the regular monitoring of service performance Lead service recovery initiatives and engagements with key stakeholders Devise roadmaps for process improvement to enhance service levels Conduct service reviews with service providers and customers Evaluate QoS and SLAs and propose changes to services or service levels in alignment with the organisation s SLA strategy '"
      ]
     },
     "execution_count": 51,
     "metadata": {},
     "output_type": "execute_result"
    }
   ],
   "source": [
    "skills_df['clean'][100]"
   ]
  },
  {
   "cell_type": "code",
   "execution_count": 54,
   "id": "8b7ba528",
   "metadata": {},
   "outputs": [],
   "source": [
    "#write extracted DF into excel\n",
    "skills_df.to_excel(\"proficiency_description.xlsx\") "
   ]
  },
  {
   "cell_type": "code",
   "execution_count": null,
   "id": "8a65011f",
   "metadata": {},
   "outputs": [],
   "source": [
    "#end"
   ]
  }
 ],
 "metadata": {
  "kernelspec": {
   "display_name": "Python 3 (ipykernel)",
   "language": "python",
   "name": "python3"
  },
  "language_info": {
   "codemirror_mode": {
    "name": "ipython",
    "version": 3
   },
   "file_extension": ".py",
   "mimetype": "text/x-python",
   "name": "python",
   "nbconvert_exporter": "python",
   "pygments_lexer": "ipython3",
   "version": "3.9.7"
  }
 },
 "nbformat": 4,
 "nbformat_minor": 5
}
