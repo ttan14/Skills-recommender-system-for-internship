{
 "cells": [
  {
   "cell_type": "code",
   "execution_count": 1,
   "id": "f75344c5",
   "metadata": {
    "execution": {
     "iopub.execute_input": "2022-01-26T14:19:43.344315Z",
     "iopub.status.busy": "2022-01-26T14:19:43.343625Z",
     "iopub.status.idle": "2022-01-26T14:19:44.396797Z",
     "shell.execute_reply": "2022-01-26T14:19:44.396055Z",
     "shell.execute_reply.started": "2022-01-26T12:46:03.692767Z"
    },
    "papermill": {
     "duration": 1.112674,
     "end_time": "2022-01-26T14:19:44.396964",
     "exception": false,
     "start_time": "2022-01-26T14:19:43.284290",
     "status": "completed"
    },
    "tags": []
   },
   "outputs": [],
   "source": [
    "import os\n",
    "import numpy as np\n",
    "import pandas as pd\n",
    "import matplotlib.pyplot as plt\n",
    "import seaborn as sns\n",
    "import pandas as pd\n",
    "import nltk\n",
    "from nltk import word_tokenize, pos_tag\n",
    "from nltk.corpus import stopwords\n"
   ]
  },
  {
   "cell_type": "code",
   "execution_count": 2,
   "id": "e3536ee1",
   "metadata": {
    "execution": {
     "iopub.execute_input": "2022-01-26T14:19:44.502712Z",
     "iopub.status.busy": "2022-01-26T14:19:44.501653Z",
     "iopub.status.idle": "2022-01-26T14:19:44.700849Z",
     "shell.execute_reply": "2022-01-26T14:19:44.701361Z",
     "shell.execute_reply.started": "2022-01-26T12:46:47.573105Z"
    },
    "papermill": {
     "duration": 0.253163,
     "end_time": "2022-01-26T14:19:44.701566",
     "exception": false,
     "start_time": "2022-01-26T14:19:44.448403",
     "status": "completed"
    },
    "tags": []
   },
   "outputs": [
    {
     "data": {
      "text/html": [
       "<div>\n",
       "<style scoped>\n",
       "    .dataframe tbody tr th:only-of-type {\n",
       "        vertical-align: middle;\n",
       "    }\n",
       "\n",
       "    .dataframe tbody tr th {\n",
       "        vertical-align: top;\n",
       "    }\n",
       "\n",
       "    .dataframe thead th {\n",
       "        text-align: right;\n",
       "    }\n",
       "</style>\n",
       "<table border=\"1\" class=\"dataframe\">\n",
       "  <thead>\n",
       "    <tr style=\"text-align: right;\">\n",
       "      <th></th>\n",
       "      <th>Course Name</th>\n",
       "      <th>University</th>\n",
       "      <th>Difficulty Level</th>\n",
       "      <th>Course Rating</th>\n",
       "      <th>Course URL</th>\n",
       "      <th>Course Description</th>\n",
       "      <th>Skills</th>\n",
       "    </tr>\n",
       "  </thead>\n",
       "  <tbody>\n",
       "    <tr>\n",
       "      <th>0</th>\n",
       "      <td>Write A Feature Length Screenplay For Film Or ...</td>\n",
       "      <td>Michigan State University</td>\n",
       "      <td>Beginner</td>\n",
       "      <td>4.8</td>\n",
       "      <td>https://www.coursera.org/learn/write-a-feature...</td>\n",
       "      <td>Write a Full Length Feature Film Script  In th...</td>\n",
       "      <td>Drama  Comedy  peering  screenwriting  film  D...</td>\n",
       "    </tr>\n",
       "    <tr>\n",
       "      <th>1</th>\n",
       "      <td>Business Strategy: Business Model Canvas Analy...</td>\n",
       "      <td>Coursera Project Network</td>\n",
       "      <td>Beginner</td>\n",
       "      <td>4.8</td>\n",
       "      <td>https://www.coursera.org/learn/canvas-analysis...</td>\n",
       "      <td>By the end of this guided project, you will be...</td>\n",
       "      <td>Finance  business plan  persona (user experien...</td>\n",
       "    </tr>\n",
       "    <tr>\n",
       "      <th>2</th>\n",
       "      <td>Silicon Thin Film Solar Cells</td>\n",
       "      <td>cole Polytechnique</td>\n",
       "      <td>Advanced</td>\n",
       "      <td>4.1</td>\n",
       "      <td>https://www.coursera.org/learn/silicon-thin-fi...</td>\n",
       "      <td>This course consists of a general presentation...</td>\n",
       "      <td>chemistry  physics  Solar Energy  film  lambda...</td>\n",
       "    </tr>\n",
       "    <tr>\n",
       "      <th>3</th>\n",
       "      <td>Finance for Managers</td>\n",
       "      <td>IESE Business School</td>\n",
       "      <td>Intermediate</td>\n",
       "      <td>4.8</td>\n",
       "      <td>https://www.coursera.org/learn/operational-fin...</td>\n",
       "      <td>When it comes to numbers, there is always more...</td>\n",
       "      <td>accounts receivable  dupont analysis  analysis...</td>\n",
       "    </tr>\n",
       "    <tr>\n",
       "      <th>4</th>\n",
       "      <td>Retrieve Data using Single-Table SQL Queries</td>\n",
       "      <td>Coursera Project Network</td>\n",
       "      <td>Beginner</td>\n",
       "      <td>4.6</td>\n",
       "      <td>https://www.coursera.org/learn/single-table-sq...</td>\n",
       "      <td>In this course you'll learn how to effectively...</td>\n",
       "      <td>Data Analysis  select (sql)  database manageme...</td>\n",
       "    </tr>\n",
       "  </tbody>\n",
       "</table>\n",
       "</div>"
      ],
      "text/plain": [
       "                                         Course Name  \\\n",
       "0  Write A Feature Length Screenplay For Film Or ...   \n",
       "1  Business Strategy: Business Model Canvas Analy...   \n",
       "2                      Silicon Thin Film Solar Cells   \n",
       "3                               Finance for Managers   \n",
       "4       Retrieve Data using Single-Table SQL Queries   \n",
       "\n",
       "                  University Difficulty Level Course Rating  \\\n",
       "0  Michigan State University         Beginner           4.8   \n",
       "1   Coursera Project Network         Beginner           4.8   \n",
       "2         cole Polytechnique         Advanced           4.1   \n",
       "3       IESE Business School     Intermediate           4.8   \n",
       "4   Coursera Project Network         Beginner           4.6   \n",
       "\n",
       "                                          Course URL  \\\n",
       "0  https://www.coursera.org/learn/write-a-feature...   \n",
       "1  https://www.coursera.org/learn/canvas-analysis...   \n",
       "2  https://www.coursera.org/learn/silicon-thin-fi...   \n",
       "3  https://www.coursera.org/learn/operational-fin...   \n",
       "4  https://www.coursera.org/learn/single-table-sq...   \n",
       "\n",
       "                                  Course Description  \\\n",
       "0  Write a Full Length Feature Film Script  In th...   \n",
       "1  By the end of this guided project, you will be...   \n",
       "2  This course consists of a general presentation...   \n",
       "3  When it comes to numbers, there is always more...   \n",
       "4  In this course you'll learn how to effectively...   \n",
       "\n",
       "                                              Skills  \n",
       "0  Drama  Comedy  peering  screenwriting  film  D...  \n",
       "1  Finance  business plan  persona (user experien...  \n",
       "2  chemistry  physics  Solar Energy  film  lambda...  \n",
       "3  accounts receivable  dupont analysis  analysis...  \n",
       "4  Data Analysis  select (sql)  database manageme...  "
      ]
     },
     "execution_count": 2,
     "metadata": {},
     "output_type": "execute_result"
    }
   ],
   "source": [
    "url = '/Users/somethingcreative-7/Documents/Tessas Internship/code/Coursera.csv'\n",
    "data = pd.read_csv(url)\n",
    "data.head(5)"
   ]
  },
  {
   "cell_type": "markdown",
   "id": "8108389a",
   "metadata": {
    "papermill": {
     "duration": 0.050258,
     "end_time": "2022-01-26T14:19:44.802615",
     "exception": false,
     "start_time": "2022-01-26T14:19:44.752357",
     "status": "completed"
    },
    "tags": []
   },
   "source": [
    "# Basic Data Analysis"
   ]
  },
  {
   "cell_type": "code",
   "execution_count": 3,
   "id": "100f65ea",
   "metadata": {
    "execution": {
     "iopub.execute_input": "2022-01-26T14:19:44.907504Z",
     "iopub.status.busy": "2022-01-26T14:19:44.906513Z",
     "iopub.status.idle": "2022-01-26T14:19:44.912134Z",
     "shell.execute_reply": "2022-01-26T14:19:44.912600Z",
     "shell.execute_reply.started": "2022-01-26T12:46:50.159391Z"
    },
    "papermill": {
     "duration": 0.059633,
     "end_time": "2022-01-26T14:19:44.912776",
     "exception": false,
     "start_time": "2022-01-26T14:19:44.853143",
     "status": "completed"
    },
    "tags": []
   },
   "outputs": [
    {
     "data": {
      "text/plain": [
       "(3423, 7)"
      ]
     },
     "execution_count": 3,
     "metadata": {},
     "output_type": "execute_result"
    }
   ],
   "source": [
    "data.shape #3522 courses and 7 columns with different attributes"
   ]
  },
  {
   "cell_type": "code",
   "execution_count": 4,
   "id": "0993059a",
   "metadata": {
    "execution": {
     "iopub.execute_input": "2022-01-26T14:19:45.041493Z",
     "iopub.status.busy": "2022-01-26T14:19:45.040248Z",
     "iopub.status.idle": "2022-01-26T14:19:45.060303Z",
     "shell.execute_reply": "2022-01-26T14:19:45.061266Z",
     "shell.execute_reply.started": "2022-01-26T12:46:50.515284Z"
    },
    "papermill": {
     "duration": 0.097295,
     "end_time": "2022-01-26T14:19:45.061496",
     "exception": false,
     "start_time": "2022-01-26T14:19:44.964201",
     "status": "completed"
    },
    "tags": []
   },
   "outputs": [
    {
     "name": "stdout",
     "output_type": "stream",
     "text": [
      "<class 'pandas.core.frame.DataFrame'>\n",
      "RangeIndex: 3423 entries, 0 to 3422\n",
      "Data columns (total 7 columns):\n",
      " #   Column              Non-Null Count  Dtype \n",
      "---  ------              --------------  ----- \n",
      " 0   Course Name         3423 non-null   object\n",
      " 1   University          3423 non-null   object\n",
      " 2   Difficulty Level    3423 non-null   object\n",
      " 3   Course Rating       3423 non-null   object\n",
      " 4   Course URL          3423 non-null   object\n",
      " 5   Course Description  3423 non-null   object\n",
      " 6   Skills              3423 non-null   object\n",
      "dtypes: object(7)\n",
      "memory usage: 187.3+ KB\n"
     ]
    }
   ],
   "source": [
    "data.info()"
   ]
  },
  {
   "cell_type": "code",
   "execution_count": 5,
   "id": "65c2dc88",
   "metadata": {
    "execution": {
     "iopub.execute_input": "2022-01-26T14:19:45.179184Z",
     "iopub.status.busy": "2022-01-26T14:19:45.178159Z",
     "iopub.status.idle": "2022-01-26T14:19:45.189975Z",
     "shell.execute_reply": "2022-01-26T14:19:45.190569Z",
     "shell.execute_reply.started": "2022-01-26T12:46:50.913696Z"
    },
    "papermill": {
     "duration": 0.068015,
     "end_time": "2022-01-26T14:19:45.190768",
     "exception": false,
     "start_time": "2022-01-26T14:19:45.122753",
     "status": "completed"
    },
    "tags": []
   },
   "outputs": [
    {
     "data": {
      "text/plain": [
       "Course Name           0\n",
       "University            0\n",
       "Difficulty Level      0\n",
       "Course Rating         0\n",
       "Course URL            0\n",
       "Course Description    0\n",
       "Skills                0\n",
       "dtype: int64"
      ]
     },
     "execution_count": 5,
     "metadata": {},
     "output_type": "execute_result"
    }
   ],
   "source": [
    "#check for missing data (nil)\n",
    "data.isnull().sum() "
   ]
  },
  {
   "cell_type": "code",
   "execution_count": 6,
   "id": "1fa17aa6",
   "metadata": {
    "execution": {
     "iopub.execute_input": "2022-01-26T14:19:45.299135Z",
     "iopub.status.busy": "2022-01-26T14:19:45.298106Z",
     "iopub.status.idle": "2022-01-26T14:19:45.306170Z",
     "shell.execute_reply": "2022-01-26T14:19:45.306688Z",
     "shell.execute_reply.started": "2022-01-26T12:46:53.446023Z"
    },
    "papermill": {
     "duration": 0.064492,
     "end_time": "2022-01-26T14:19:45.306882",
     "exception": false,
     "start_time": "2022-01-26T14:19:45.242390",
     "status": "completed"
    },
    "tags": []
   },
   "outputs": [
    {
     "data": {
      "text/plain": [
       "Beginner          1406\n",
       "Advanced           990\n",
       "Intermediate       823\n",
       "Conversant         154\n",
       "Not Calibrated      50\n",
       "Name: Difficulty Level, dtype: int64"
      ]
     },
     "execution_count": 6,
     "metadata": {},
     "output_type": "execute_result"
    }
   ],
   "source": [
    "data['Difficulty Level'].value_counts()"
   ]
  },
  {
   "cell_type": "markdown",
   "id": "689fdeab",
   "metadata": {
    "papermill": {
     "duration": 0.053402,
     "end_time": "2022-01-26T14:19:45.765943",
     "exception": false,
     "start_time": "2022-01-26T14:19:45.712541",
     "status": "completed"
    },
    "tags": []
   },
   "source": [
    "# Required Columns for System"
   ]
  },
  {
   "cell_type": "markdown",
   "id": "dc7a7331",
   "metadata": {
    "papermill": {
     "duration": 0.053564,
     "end_time": "2022-01-26T14:19:45.872798",
     "exception": false,
     "start_time": "2022-01-26T14:19:45.819234",
     "status": "completed"
    },
    "tags": []
   },
   "source": [
    "#### Important columns to be used in recommendation system : \n",
    "\n",
    "- Course Name : Names of the courses\n",
    "- Course Description : Similar courses may have similar course description\n",
    "- Skills : Users may want to see courses based on same skills\n",
    "- Difficulty Level : Similar courses as per difficulty level \n",
    "\n",
    "#### Columns not used for the recommendation system :\n",
    "\n",
    "- Course Ratings : Numerical Column; Ratings can sometimes become a biased factor and distribution is not even\n",
    "- University : Same university might offer multiple courses in different domains which the user might not want to see\n",
    "- Course URL : No significance in the recommendation system"
   ]
  },
  {
   "cell_type": "markdown",
   "id": "631aeb3b",
   "metadata": {
    "papermill": {
     "duration": 0.052809,
     "end_time": "2022-01-26T14:19:46.221289",
     "exception": false,
     "start_time": "2022-01-26T14:19:46.168480",
     "status": "completed"
    },
    "tags": []
   },
   "source": [
    "# Data Pre-Processing\n",
    "\n",
    "An important part of the process is to pre-process the data into usable format for the recommendation system"
   ]
  },
  {
   "cell_type": "code",
   "execution_count": 7,
   "id": "42f0e96a",
   "metadata": {
    "execution": {
     "iopub.execute_input": "2022-01-26T14:19:45.985862Z",
     "iopub.status.busy": "2022-01-26T14:19:45.984756Z",
     "iopub.status.idle": "2022-01-26T14:19:45.990667Z",
     "shell.execute_reply": "2022-01-26T14:19:45.991205Z",
     "shell.execute_reply.started": "2022-01-26T12:49:25.396394Z"
    },
    "papermill": {
     "duration": 0.064324,
     "end_time": "2022-01-26T14:19:45.991385",
     "exception": false,
     "start_time": "2022-01-26T14:19:45.927061",
     "status": "completed"
    },
    "tags": []
   },
   "outputs": [
    {
     "name": "stderr",
     "output_type": "stream",
     "text": [
      "/var/folders/xg/4dfknv856n51lr83nj9crvnh0000gn/T/ipykernel_48467/3738447124.py:2: SettingWithCopyWarning: \n",
      "A value is trying to be set on a copy of a slice from a DataFrame.\n",
      "Try using .loc[row_indexer,col_indexer] = value instead\n",
      "\n",
      "See the caveats in the documentation: https://pandas.pydata.org/pandas-docs/stable/user_guide/indexing.html#returning-a-view-versus-a-copy\n",
      "  df['tokens'] = df['Course Description']\n"
     ]
    }
   ],
   "source": [
    "df = data[['Course Name','Difficulty Level','Course Description','Skills']]\n",
    "df['tokens'] = df['Course Description']\n"
   ]
  },
  {
   "cell_type": "code",
   "execution_count": 8,
   "id": "624470d3",
   "metadata": {
    "execution": {
     "iopub.execute_input": "2022-01-26T14:19:46.566735Z",
     "iopub.status.busy": "2022-01-26T14:19:46.565969Z",
     "iopub.status.idle": "2022-01-26T14:19:46.576143Z",
     "shell.execute_reply": "2022-01-26T14:19:46.576719Z",
     "shell.execute_reply.started": "2022-01-26T12:53:53.653156Z"
    },
    "papermill": {
     "duration": 0.068556,
     "end_time": "2022-01-26T14:19:46.576919",
     "exception": false,
     "start_time": "2022-01-26T14:19:46.508363",
     "status": "completed"
    },
    "tags": []
   },
   "outputs": [
    {
     "data": {
      "text/html": [
       "<div>\n",
       "<style scoped>\n",
       "    .dataframe tbody tr th:only-of-type {\n",
       "        vertical-align: middle;\n",
       "    }\n",
       "\n",
       "    .dataframe tbody tr th {\n",
       "        vertical-align: top;\n",
       "    }\n",
       "\n",
       "    .dataframe thead th {\n",
       "        text-align: right;\n",
       "    }\n",
       "</style>\n",
       "<table border=\"1\" class=\"dataframe\">\n",
       "  <thead>\n",
       "    <tr style=\"text-align: right;\">\n",
       "      <th></th>\n",
       "      <th>Course Name</th>\n",
       "      <th>Difficulty Level</th>\n",
       "      <th>Course Description</th>\n",
       "      <th>Skills</th>\n",
       "      <th>tokens</th>\n",
       "    </tr>\n",
       "  </thead>\n",
       "  <tbody>\n",
       "    <tr>\n",
       "      <th>0</th>\n",
       "      <td>Write A Feature Length Screenplay For Film Or ...</td>\n",
       "      <td>Beginner</td>\n",
       "      <td>Write a Full Length Feature Film Script  In th...</td>\n",
       "      <td>Drama  Comedy  peering  screenwriting  film  D...</td>\n",
       "      <td>Write a Full Length Feature Film Script  In th...</td>\n",
       "    </tr>\n",
       "    <tr>\n",
       "      <th>1</th>\n",
       "      <td>Business Strategy: Business Model Canvas Analy...</td>\n",
       "      <td>Beginner</td>\n",
       "      <td>By the end of this guided project, you will be...</td>\n",
       "      <td>Finance  business plan  persona (user experien...</td>\n",
       "      <td>By the end of this guided project, you will be...</td>\n",
       "    </tr>\n",
       "    <tr>\n",
       "      <th>2</th>\n",
       "      <td>Silicon Thin Film Solar Cells</td>\n",
       "      <td>Advanced</td>\n",
       "      <td>This course consists of a general presentation...</td>\n",
       "      <td>chemistry  physics  Solar Energy  film  lambda...</td>\n",
       "      <td>This course consists of a general presentation...</td>\n",
       "    </tr>\n",
       "    <tr>\n",
       "      <th>3</th>\n",
       "      <td>Finance for Managers</td>\n",
       "      <td>Intermediate</td>\n",
       "      <td>When it comes to numbers, there is always more...</td>\n",
       "      <td>accounts receivable  dupont analysis  analysis...</td>\n",
       "      <td>When it comes to numbers, there is always more...</td>\n",
       "    </tr>\n",
       "    <tr>\n",
       "      <th>4</th>\n",
       "      <td>Retrieve Data using Single-Table SQL Queries</td>\n",
       "      <td>Beginner</td>\n",
       "      <td>In this course you'll learn how to effectively...</td>\n",
       "      <td>Data Analysis  select (sql)  database manageme...</td>\n",
       "      <td>In this course you'll learn how to effectively...</td>\n",
       "    </tr>\n",
       "  </tbody>\n",
       "</table>\n",
       "</div>"
      ],
      "text/plain": [
       "                                         Course Name Difficulty Level  \\\n",
       "0  Write A Feature Length Screenplay For Film Or ...         Beginner   \n",
       "1  Business Strategy: Business Model Canvas Analy...         Beginner   \n",
       "2                      Silicon Thin Film Solar Cells         Advanced   \n",
       "3                               Finance for Managers     Intermediate   \n",
       "4       Retrieve Data using Single-Table SQL Queries         Beginner   \n",
       "\n",
       "                                  Course Description  \\\n",
       "0  Write a Full Length Feature Film Script  In th...   \n",
       "1  By the end of this guided project, you will be...   \n",
       "2  This course consists of a general presentation...   \n",
       "3  When it comes to numbers, there is always more...   \n",
       "4  In this course you'll learn how to effectively...   \n",
       "\n",
       "                                              Skills  \\\n",
       "0  Drama  Comedy  peering  screenwriting  film  D...   \n",
       "1  Finance  business plan  persona (user experien...   \n",
       "2  chemistry  physics  Solar Energy  film  lambda...   \n",
       "3  accounts receivable  dupont analysis  analysis...   \n",
       "4  Data Analysis  select (sql)  database manageme...   \n",
       "\n",
       "                                              tokens  \n",
       "0  Write a Full Length Feature Film Script  In th...  \n",
       "1  By the end of this guided project, you will be...  \n",
       "2  This course consists of a general presentation...  \n",
       "3  When it comes to numbers, there is always more...  \n",
       "4  In this course you'll learn how to effectively...  "
      ]
     },
     "execution_count": 8,
     "metadata": {},
     "output_type": "execute_result"
    }
   ],
   "source": [
    "df.head(5)"
   ]
  },
  {
   "cell_type": "code",
   "execution_count": 9,
   "id": "ec8ac184",
   "metadata": {},
   "outputs": [
    {
     "name": "stderr",
     "output_type": "stream",
     "text": [
      "/var/folders/xg/4dfknv856n51lr83nj9crvnh0000gn/T/ipykernel_48467/2676447717.py:2: SettingWithCopyWarning: \n",
      "A value is trying to be set on a copy of a slice from a DataFrame.\n",
      "Try using .loc[row_indexer,col_indexer] = value instead\n",
      "\n",
      "See the caveats in the documentation: https://pandas.pydata.org/pandas-docs/stable/user_guide/indexing.html#returning-a-view-versus-a-copy\n",
      "  df['tokens'] = df['tokens'].apply(lambda i: pos_tag(word_tokenize(i),tagset='universal'))\n"
     ]
    }
   ],
   "source": [
    "#tokenize\n",
    "df['tokens'] = df['tokens'].apply(lambda i: pos_tag(word_tokenize(i),tagset='universal'))"
   ]
  },
  {
   "cell_type": "code",
   "execution_count": 10,
   "id": "3b5dec37",
   "metadata": {},
   "outputs": [
    {
     "name": "stdout",
     "output_type": "stream",
     "text": [
      "0       [(Write, VERB), (a, DET), (Full, NOUN), (Lengt...\n",
      "1       [(By, ADP), (the, DET), (end, NOUN), (of, ADP)...\n",
      "2       [(This, DET), (course, NOUN), (consists, VERB)...\n",
      "3       [(When, ADV), (it, PRON), (comes, VERB), (to, ...\n",
      "4       [(In, ADP), (this, DET), (course, NOUN), (you,...\n",
      "                              ...                        \n",
      "3418    [(In, ADP), (the, DET), (capstone, NOUN), (,, ...\n",
      "3419    [(Give, VERB), (me, PRON), (liberty, ADJ), (,,...\n",
      "3420    [(Megatrends, NOUN), (', PRT), (heavily, ADV),...\n",
      "3421    [(This, DET), (course, NOUN), (teaches, VERB),...\n",
      "3422    [(In, ADP), (this, DET), (course, NOUN), (,, ....\n",
      "Name: tokens, Length: 3423, dtype: object\n"
     ]
    }
   ],
   "source": [
    "print(df['tokens'])"
   ]
  },
  {
   "cell_type": "code",
   "execution_count": 11,
   "id": "a843ca2a",
   "metadata": {},
   "outputs": [
    {
     "name": "stdout",
     "output_type": "stream",
     "text": [
      "0       [full, length, feature, film, script, course, ...\n",
      "1       [end, project, business, model, canvas, soluti...\n",
      "2       [course, presentation, cell, silicon, film, mo...\n",
      "3       [number, eye, finance, 'story, balance, sheet,...\n",
      "4       [course, data, database, table, sql, language,...\n",
      "                              ...                        \n",
      "3418    [capstone, student, series, application, proce...\n",
      "3419    [death, patrick, henry, forgotten, founder, \\t...\n",
      "3420    [megatrends, influence, today, organisation, i...\n",
      "3421    [course, dynamic, mechanic, subject, mechanica...\n",
      "3422    [course, google, kubernetes, engine, productio...\n",
      "Name: tokens, Length: 3423, dtype: object\n",
      "3423\n"
     ]
    },
    {
     "name": "stderr",
     "output_type": "stream",
     "text": [
      "/var/folders/xg/4dfknv856n51lr83nj9crvnh0000gn/T/ipykernel_48467/1521549936.py:13: SettingWithCopyWarning: \n",
      "A value is trying to be set on a copy of a slice from a DataFrame.\n",
      "Try using .loc[row_indexer,col_indexer] = value instead\n",
      "\n",
      "See the caveats in the documentation: https://pandas.pydata.org/pandas-docs/stable/user_guide/indexing.html#returning-a-view-versus-a-copy\n",
      "  df['tokens'] = df['tokens'].apply(lemmaNVAR)\n"
     ]
    }
   ],
   "source": [
    "#lemmatize\n",
    "wnl = nltk.WordNetLemmatizer()\n",
    "def lemmaNVAR(wpos):\n",
    "    lemmas = []\n",
    "    for w, pos in wpos:\n",
    "        if pos == 'NOUN':\n",
    "            lemmas.append(wnl.lemmatize(w.lower(), pos = 'n'))\n",
    "    return lemmas\n",
    "#lemmatize\n",
    "#text_lem=[lemmaNVAR(pos) for pos in x_pos]\n",
    "#print(text_lem)\n",
    "\n",
    "df['tokens'] = df['tokens'].apply(lemmaNVAR)\n",
    "print(df['tokens'])\n",
    "print(len(df['tokens']))"
   ]
  },
  {
   "cell_type": "code",
   "execution_count": 12,
   "id": "d6246990",
   "metadata": {},
   "outputs": [
    {
     "name": "stdout",
     "output_type": "stream",
     "text": [
      "['full', 'length', 'feature', 'film', 'script', 'course', 'screenplay', 'film', 'television', 'drama', 'comedy', 'anything', 'process', 'component', 'process', 'script', 'end', 'course', 'project', 'confidence', 'idea', 'ability', 'script', 'course', 'creativity', 'learning', 'learning', 'place', 'activity', 'link', 'trailer', 'course', 'trailer', 'copy', 'paste', 'link', 'browser', 'http', 'learner', 'review', 'approach', 'professor', 'wheeler', 'towards', 'course', 'point', 'anyone', 'screenplay', 'writing', 'course', 'course', 'curriculum', 'writer', 'room', 'process', 'work', 'peer', 'review', 'share', 'feedback', 'peer', 'work', 'feedback', 'peer', 'world', 'writer', 'room', 'experience', 'writer', 'proponent', 'experiential', 'learning', 'active', 'learning', 'lecture', 'minute', 'point', 'process', 'success', 'script', 'writer', 'way', 'writer', 'learner', 'review', 'course', 'instructor', 'course', 'script', 'experience', 'word', 'processor', 'week', 'software', 'celtx', 'trelby', 'final', 'draft', 'industry', 'standard', 'word', 'processor', 'script', 'formatting', 'learner', 'review', 'writer', 'concern', 'protection', 'work', 'coursera', 'privacy', 'policy', 'learner', 'ip', 'sole', 'owner', 'work']\n"
     ]
    },
    {
     "name": "stderr",
     "output_type": "stream",
     "text": [
      "/var/folders/xg/4dfknv856n51lr83nj9crvnh0000gn/T/ipykernel_48467/3461617193.py:5: SettingWithCopyWarning: \n",
      "A value is trying to be set on a copy of a slice from a DataFrame.\n",
      "Try using .loc[row_indexer,col_indexer] = value instead\n",
      "\n",
      "See the caveats in the documentation: https://pandas.pydata.org/pandas-docs/stable/user_guide/indexing.html#returning-a-view-versus-a-copy\n",
      "  df['tokensnew'] = df['tokens']\n"
     ]
    }
   ],
   "source": [
    "#####NEW COLUMN TOKENS\n",
    "\n",
    "\n",
    "#filter unique entries, set problem\n",
    "df['tokensnew'] = df['tokens']\n",
    "#df['tokensnew'] = df['tokensnew'].apply(set)\n",
    "#text_unique= [list(i) for i in text_unique]\n",
    "#print(text_unique)\n",
    "#df['tokensnew'] = df['tokensnew'].apply(str)\n",
    "\n",
    "print(df['tokensnew'][0])\n"
   ]
  },
  {
   "cell_type": "code",
   "execution_count": 13,
   "id": "100cd7b5",
   "metadata": {},
   "outputs": [],
   "source": [
    "#identify stopwords\n",
    "mystopwords=stopwords.words(\"english\") + ['course', 'study', 'course','learner','aim','skill', 'student','end','example','part', 'project','topic','experience','note','university','learning','introduction','use','application','way']\n"
   ]
  },
  {
   "cell_type": "code",
   "execution_count": 14,
   "id": "b6c5cb02",
   "metadata": {},
   "outputs": [
    {
     "name": "stdout",
     "output_type": "stream",
     "text": [
      "['full', 'length', 'feature', 'film', 'script', 'course', 'screenplay', 'film', 'television', 'drama', 'comedy', 'anything', 'process', 'component', 'process', 'script', 'end', 'course', 'project', 'confidence', 'idea', 'ability', 'script', 'course', 'creativity', 'learning', 'learning', 'place', 'activity', 'link', 'trailer', 'course', 'trailer', 'copy', 'paste', 'link', 'browser', 'http', 'learner', 'review', 'approach', 'professor', 'wheeler', 'towards', 'course', 'point', 'anyone', 'screenplay', 'writing', 'course', 'course', 'curriculum', 'writer', 'room', 'process', 'work', 'peer', 'review', 'share', 'feedback', 'peer', 'work', 'feedback', 'peer', 'world', 'writer', 'room', 'experience', 'writer', 'proponent', 'experiential', 'learning', 'active', 'learning', 'lecture', 'minute', 'point', 'process', 'success', 'script', 'writer', 'way', 'writer', 'learner', 'review', 'course', 'instructor', 'course', 'script', 'experience', 'word', 'processor', 'week', 'software', 'celtx', 'trelby', 'final', 'draft', 'industry', 'standard', 'word', 'processor', 'script', 'formatting', 'learner', 'review', 'writer', 'concern', 'protection', 'work', 'coursera', 'privacy', 'policy', 'learner', 'ip', 'sole', 'owner', 'work']\n",
      "['full', 'length', 'feature', 'film', 'script', 'screenplay', 'film', 'television', 'drama', 'comedy', 'anything', 'process', 'component', 'process', 'script', 'confidence', 'idea', 'ability', 'script', 'creativity', 'place', 'activity', 'link', 'trailer', 'trailer', 'copy', 'paste', 'link', 'browser', 'http', 'review', 'approach', 'professor', 'wheeler', 'towards', 'point', 'anyone', 'screenplay', 'writing', 'curriculum', 'writer', 'room', 'process', 'work', 'peer', 'review', 'share', 'feedback', 'peer', 'work', 'feedback', 'peer', 'world', 'writer', 'room', 'writer', 'proponent', 'experiential', 'active', 'lecture', 'minute', 'point', 'process', 'success', 'script', 'writer', 'writer', 'review', 'instructor', 'script', 'word', 'processor', 'week', 'software', 'celtx', 'trelby', 'final', 'draft', 'industry', 'standard', 'word', 'processor', 'script', 'formatting', 'review', 'writer', 'concern', 'protection', 'work', 'coursera', 'privacy', 'policy', 'ip', 'sole', 'owner', 'work']\n"
     ]
    },
    {
     "name": "stderr",
     "output_type": "stream",
     "text": [
      "/var/folders/xg/4dfknv856n51lr83nj9crvnh0000gn/T/ipykernel_48467/1270702061.py:2: SettingWithCopyWarning: \n",
      "A value is trying to be set on a copy of a slice from a DataFrame.\n",
      "Try using .loc[row_indexer,col_indexer] = value instead\n",
      "\n",
      "See the caveats in the documentation: https://pandas.pydata.org/pandas-docs/stable/user_guide/indexing.html#returning-a-view-versus-a-copy\n",
      "  df['tokensnew'] = df['tokensnew'].apply(lambda i: [t for t in i if t not in mystopwords])\n"
     ]
    },
    {
     "data": {
      "text/html": [
       "<div>\n",
       "<style scoped>\n",
       "    .dataframe tbody tr th:only-of-type {\n",
       "        vertical-align: middle;\n",
       "    }\n",
       "\n",
       "    .dataframe tbody tr th {\n",
       "        vertical-align: top;\n",
       "    }\n",
       "\n",
       "    .dataframe thead th {\n",
       "        text-align: right;\n",
       "    }\n",
       "</style>\n",
       "<table border=\"1\" class=\"dataframe\">\n",
       "  <thead>\n",
       "    <tr style=\"text-align: right;\">\n",
       "      <th></th>\n",
       "      <th>Course Name</th>\n",
       "      <th>Difficulty Level</th>\n",
       "      <th>Course Description</th>\n",
       "      <th>Skills</th>\n",
       "      <th>tokens</th>\n",
       "      <th>tokensnew</th>\n",
       "    </tr>\n",
       "  </thead>\n",
       "  <tbody>\n",
       "    <tr>\n",
       "      <th>0</th>\n",
       "      <td>Write A Feature Length Screenplay For Film Or ...</td>\n",
       "      <td>Beginner</td>\n",
       "      <td>Write a Full Length Feature Film Script  In th...</td>\n",
       "      <td>Drama  Comedy  peering  screenwriting  film  D...</td>\n",
       "      <td>[full, length, feature, film, script, course, ...</td>\n",
       "      <td>[full, length, feature, film, script, screenpl...</td>\n",
       "    </tr>\n",
       "    <tr>\n",
       "      <th>1</th>\n",
       "      <td>Business Strategy: Business Model Canvas Analy...</td>\n",
       "      <td>Beginner</td>\n",
       "      <td>By the end of this guided project, you will be...</td>\n",
       "      <td>Finance  business plan  persona (user experien...</td>\n",
       "      <td>[end, project, business, model, canvas, soluti...</td>\n",
       "      <td>[business, model, canvas, solution, analysis, ...</td>\n",
       "    </tr>\n",
       "    <tr>\n",
       "      <th>2</th>\n",
       "      <td>Silicon Thin Film Solar Cells</td>\n",
       "      <td>Advanced</td>\n",
       "      <td>This course consists of a general presentation...</td>\n",
       "      <td>chemistry  physics  Solar Energy  film  lambda...</td>\n",
       "      <td>[course, presentation, cell, silicon, film, mo...</td>\n",
       "      <td>[presentation, cell, silicon, film, mooc, seri...</td>\n",
       "    </tr>\n",
       "    <tr>\n",
       "      <th>3</th>\n",
       "      <td>Finance for Managers</td>\n",
       "      <td>Intermediate</td>\n",
       "      <td>When it comes to numbers, there is always more...</td>\n",
       "      <td>accounts receivable  dupont analysis  analysis...</td>\n",
       "      <td>[number, eye, finance, 'story, balance, sheet,...</td>\n",
       "      <td>[number, eye, finance, 'story, balance, sheet,...</td>\n",
       "    </tr>\n",
       "    <tr>\n",
       "      <th>4</th>\n",
       "      <td>Retrieve Data using Single-Table SQL Queries</td>\n",
       "      <td>Beginner</td>\n",
       "      <td>In this course you'll learn how to effectively...</td>\n",
       "      <td>Data Analysis  select (sql)  database manageme...</td>\n",
       "      <td>[course, data, database, table, sql, language,...</td>\n",
       "      <td>[data, database, table, sql, language, compute...</td>\n",
       "    </tr>\n",
       "  </tbody>\n",
       "</table>\n",
       "</div>"
      ],
      "text/plain": [
       "                                         Course Name Difficulty Level  \\\n",
       "0  Write A Feature Length Screenplay For Film Or ...         Beginner   \n",
       "1  Business Strategy: Business Model Canvas Analy...         Beginner   \n",
       "2                      Silicon Thin Film Solar Cells         Advanced   \n",
       "3                               Finance for Managers     Intermediate   \n",
       "4       Retrieve Data using Single-Table SQL Queries         Beginner   \n",
       "\n",
       "                                  Course Description  \\\n",
       "0  Write a Full Length Feature Film Script  In th...   \n",
       "1  By the end of this guided project, you will be...   \n",
       "2  This course consists of a general presentation...   \n",
       "3  When it comes to numbers, there is always more...   \n",
       "4  In this course you'll learn how to effectively...   \n",
       "\n",
       "                                              Skills  \\\n",
       "0  Drama  Comedy  peering  screenwriting  film  D...   \n",
       "1  Finance  business plan  persona (user experien...   \n",
       "2  chemistry  physics  Solar Energy  film  lambda...   \n",
       "3  accounts receivable  dupont analysis  analysis...   \n",
       "4  Data Analysis  select (sql)  database manageme...   \n",
       "\n",
       "                                              tokens  \\\n",
       "0  [full, length, feature, film, script, course, ...   \n",
       "1  [end, project, business, model, canvas, soluti...   \n",
       "2  [course, presentation, cell, silicon, film, mo...   \n",
       "3  [number, eye, finance, 'story, balance, sheet,...   \n",
       "4  [course, data, database, table, sql, language,...   \n",
       "\n",
       "                                           tokensnew  \n",
       "0  [full, length, feature, film, script, screenpl...  \n",
       "1  [business, model, canvas, solution, analysis, ...  \n",
       "2  [presentation, cell, silicon, film, mooc, seri...  \n",
       "3  [number, eye, finance, 'story, balance, sheet,...  \n",
       "4  [data, database, table, sql, language, compute...  "
      ]
     },
     "execution_count": 14,
     "metadata": {},
     "output_type": "execute_result"
    }
   ],
   "source": [
    "#remove stopwords\n",
    "df['tokensnew'] = df['tokensnew'].apply(lambda i: [t for t in i if t not in mystopwords])\n",
    "print (df['tokens'][0])\n",
    "print(df['tokensnew'][0])\n",
    "\n",
    "df.head()"
   ]
  },
  {
   "cell_type": "code",
   "execution_count": null,
   "id": "52d88a35",
   "metadata": {},
   "outputs": [],
   "source": []
  },
  {
   "cell_type": "code",
   "execution_count": 15,
   "id": "ef68ab48",
   "metadata": {
    "scrolled": true
   },
   "outputs": [
    {
     "ename": "NameError",
     "evalue": "name 'listfinal' is not defined",
     "output_type": "error",
     "traceback": [
      "\u001b[0;31m---------------------------------------------------------------------------\u001b[0m",
      "\u001b[0;31mNameError\u001b[0m                                 Traceback (most recent call last)",
      "\u001b[0;32m/var/folders/xg/4dfknv856n51lr83nj9crvnh0000gn/T/ipykernel_48467/3696601809.py\u001b[0m in \u001b[0;36m<module>\u001b[0;34m\u001b[0m\n\u001b[1;32m      1\u001b[0m \u001b[0;31m# Frequency distribution of the tokens across whole DF\u001b[0m\u001b[0;34m\u001b[0m\u001b[0;34m\u001b[0m\u001b[0m\n\u001b[0;32m----> 2\u001b[0;31m \u001b[0mfd\u001b[0m \u001b[0;34m=\u001b[0m \u001b[0mnltk\u001b[0m\u001b[0;34m.\u001b[0m\u001b[0mFreqDist\u001b[0m\u001b[0;34m(\u001b[0m\u001b[0mlistfinal\u001b[0m\u001b[0;34m)\u001b[0m\u001b[0;34m\u001b[0m\u001b[0;34m\u001b[0m\u001b[0m\n\u001b[0m\u001b[1;32m      3\u001b[0m \u001b[0mprint\u001b[0m\u001b[0;34m(\u001b[0m\u001b[0mfd\u001b[0m\u001b[0;34m.\u001b[0m\u001b[0mmost_common\u001b[0m\u001b[0;34m(\u001b[0m\u001b[0;36m50\u001b[0m\u001b[0;34m)\u001b[0m\u001b[0;34m)\u001b[0m\u001b[0;34m\u001b[0m\u001b[0;34m\u001b[0m\u001b[0m\n\u001b[1;32m      4\u001b[0m \u001b[0mfd\u001b[0m\u001b[0;34m.\u001b[0m\u001b[0mplot\u001b[0m\u001b[0;34m(\u001b[0m\u001b[0;36m30\u001b[0m\u001b[0;34m)\u001b[0m\u001b[0;34m\u001b[0m\u001b[0;34m\u001b[0m\u001b[0m\n",
      "\u001b[0;31mNameError\u001b[0m: name 'listfinal' is not defined"
     ]
    }
   ],
   "source": [
    "# Frequency distribution of the tokens across whole DF\n",
    "fd = nltk.FreqDist(listfinal)\n",
    "print(fd.most_common(50))\n",
    "fd.plot(30)"
   ]
  },
  {
   "cell_type": "code",
   "execution_count": 57,
   "id": "8841b78b",
   "metadata": {
    "scrolled": true
   },
   "outputs": [
    {
     "name": "stdout",
     "output_type": "stream",
     "text": [
      "Collecting wordcloud\n",
      "  Downloading wordcloud-1.8.1.tar.gz (220 kB)\n",
      "\u001b[K     |████████████████████████████████| 220 kB 7.4 MB/s eta 0:00:01\n",
      "\u001b[?25hRequirement already satisfied: numpy>=1.6.1 in /Users/somethingcreative-7/opt/anaconda3/lib/python3.9/site-packages (from wordcloud) (1.20.3)\n",
      "Requirement already satisfied: pillow in /Users/somethingcreative-7/opt/anaconda3/lib/python3.9/site-packages (from wordcloud) (8.4.0)\n",
      "Requirement already satisfied: matplotlib in /Users/somethingcreative-7/opt/anaconda3/lib/python3.9/site-packages (from wordcloud) (3.4.3)\n",
      "Requirement already satisfied: python-dateutil>=2.7 in /Users/somethingcreative-7/opt/anaconda3/lib/python3.9/site-packages (from matplotlib->wordcloud) (2.8.2)\n",
      "Requirement already satisfied: pyparsing>=2.2.1 in /Users/somethingcreative-7/opt/anaconda3/lib/python3.9/site-packages (from matplotlib->wordcloud) (3.0.4)\n",
      "Requirement already satisfied: kiwisolver>=1.0.1 in /Users/somethingcreative-7/opt/anaconda3/lib/python3.9/site-packages (from matplotlib->wordcloud) (1.3.1)\n",
      "Requirement already satisfied: cycler>=0.10 in /Users/somethingcreative-7/opt/anaconda3/lib/python3.9/site-packages (from matplotlib->wordcloud) (0.10.0)\n",
      "Requirement already satisfied: six in /Users/somethingcreative-7/opt/anaconda3/lib/python3.9/site-packages (from cycler>=0.10->matplotlib->wordcloud) (1.16.0)\n",
      "Building wheels for collected packages: wordcloud\n",
      "  Building wheel for wordcloud (setup.py) ... \u001b[?25ldone\n",
      "\u001b[?25h  Created wheel for wordcloud: filename=wordcloud-1.8.1-cp39-cp39-macosx_10_9_x86_64.whl size=154241 sha256=70389a9c373ad3eee9c2b458f2e3728f7cbc2fc492dc07317d93b8aba290ac27\n",
      "  Stored in directory: /Users/somethingcreative-7/Library/Caches/pip/wheels/f9/7a/dd/06ef8b5dfe5483f6204133c08eeb16c287cc2c05e290ae2fc0\n",
      "Successfully built wordcloud\n",
      "Installing collected packages: wordcloud\n",
      "Successfully installed wordcloud-1.8.1\n"
     ]
    }
   ],
   "source": [
    "#!pip install wordcloud"
   ]
  },
  {
   "cell_type": "code",
   "execution_count": 86,
   "id": "e0500bf0",
   "metadata": {},
   "outputs": [],
   "source": [
    "from wordcloud import WordCloud\n",
    "import matplotlib.pyplot as plt\n"
   ]
  },
  {
   "cell_type": "code",
   "execution_count": 87,
   "id": "4626f481",
   "metadata": {
    "scrolled": false
   },
   "outputs": [
    {
     "data": {
      "image/png": "[encoded data removed]",
      "text/plain": [
       "<Figure size 432x288 with 1 Axes>"
      ]
     },
     "metadata": {
      "needs_background": "light"
     },
     "output_type": "display_data"
    }
   ],
   "source": [
    "wc_final = WordCloud(background_color=\"white\").generate_from_frequencies(fd)\n",
    "plt.imshow(wc_final, interpolation='bilinear')\n",
    "plt.axis(\"off\")\n",
    "plt.show()"
   ]
  },
  {
   "cell_type": "markdown",
   "id": "0f7c8162",
   "metadata": {
    "papermill": {
     "duration": 0.054478,
     "end_time": "2022-01-26T14:19:46.687351",
     "exception": false,
     "start_time": "2022-01-26T14:19:46.632873",
     "status": "completed"
    },
    "tags": []
   },
   "source": [
    "Creating Tags Column\n",
    "\n",
    "The tags column is the combination of **Course Name + Difficulty Level + tokens extracted from Course Description + Skills**"
   ]
  },
  {
   "cell_type": "code",
   "execution_count": 16,
   "id": "ac58feec",
   "metadata": {},
   "outputs": [
    {
     "name": "stderr",
     "output_type": "stream",
     "text": [
      "/var/folders/xg/4dfknv856n51lr83nj9crvnh0000gn/T/ipykernel_48467/227644061.py:1: SettingWithCopyWarning: \n",
      "A value is trying to be set on a copy of a slice from a DataFrame.\n",
      "Try using .loc[row_indexer,col_indexer] = value instead\n",
      "\n",
      "See the caveats in the documentation: https://pandas.pydata.org/pandas-docs/stable/user_guide/indexing.html#returning-a-view-versus-a-copy\n",
      "  df['Course Name'] = df['Course Name'].str.replace(' ',',')\n",
      "/var/folders/xg/4dfknv856n51lr83nj9crvnh0000gn/T/ipykernel_48467/227644061.py:2: SettingWithCopyWarning: \n",
      "A value is trying to be set on a copy of a slice from a DataFrame.\n",
      "Try using .loc[row_indexer,col_indexer] = value instead\n",
      "\n",
      "See the caveats in the documentation: https://pandas.pydata.org/pandas-docs/stable/user_guide/indexing.html#returning-a-view-versus-a-copy\n",
      "  df['Course Name'] = df['Course Name'].str.replace(',,',',')\n",
      "/var/folders/xg/4dfknv856n51lr83nj9crvnh0000gn/T/ipykernel_48467/227644061.py:3: SettingWithCopyWarning: \n",
      "A value is trying to be set on a copy of a slice from a DataFrame.\n",
      "Try using .loc[row_indexer,col_indexer] = value instead\n",
      "\n",
      "See the caveats in the documentation: https://pandas.pydata.org/pandas-docs/stable/user_guide/indexing.html#returning-a-view-versus-a-copy\n",
      "  df['Course Name'] = df['Course Name'].str.replace(':','')\n",
      "/var/folders/xg/4dfknv856n51lr83nj9crvnh0000gn/T/ipykernel_48467/227644061.py:4: FutureWarning: The default value of regex will change from True to False in a future version. In addition, single character regular expressions will *not* be treated as literal strings when regex=True.\n",
      "  df['Skills'] = df['Skills'].str.replace('(','')\n",
      "/var/folders/xg/4dfknv856n51lr83nj9crvnh0000gn/T/ipykernel_48467/227644061.py:4: SettingWithCopyWarning: \n",
      "A value is trying to be set on a copy of a slice from a DataFrame.\n",
      "Try using .loc[row_indexer,col_indexer] = value instead\n",
      "\n",
      "See the caveats in the documentation: https://pandas.pydata.org/pandas-docs/stable/user_guide/indexing.html#returning-a-view-versus-a-copy\n",
      "  df['Skills'] = df['Skills'].str.replace('(','')\n",
      "/var/folders/xg/4dfknv856n51lr83nj9crvnh0000gn/T/ipykernel_48467/227644061.py:5: FutureWarning: The default value of regex will change from True to False in a future version. In addition, single character regular expressions will *not* be treated as literal strings when regex=True.\n",
      "  df['Skills'] = df['Skills'].str.replace(')','')\n",
      "/var/folders/xg/4dfknv856n51lr83nj9crvnh0000gn/T/ipykernel_48467/227644061.py:5: SettingWithCopyWarning: \n",
      "A value is trying to be set on a copy of a slice from a DataFrame.\n",
      "Try using .loc[row_indexer,col_indexer] = value instead\n",
      "\n",
      "See the caveats in the documentation: https://pandas.pydata.org/pandas-docs/stable/user_guide/indexing.html#returning-a-view-versus-a-copy\n",
      "  df['Skills'] = df['Skills'].str.replace(')','')\n"
     ]
    }
   ],
   "source": [
    "df['Course Name'] = df['Course Name'].str.replace(' ',',')\n",
    "df['Course Name'] = df['Course Name'].str.replace(',,',',')\n",
    "df['Course Name'] = df['Course Name'].str.replace(':','')\n",
    "df['Skills'] = df['Skills'].str.replace('(','')\n",
    "df['Skills'] = df['Skills'].str.replace(')','')"
   ]
  },
  {
   "cell_type": "code",
   "execution_count": 17,
   "id": "7efa10a9",
   "metadata": {
    "execution": {
     "iopub.execute_input": "2022-01-26T14:19:46.805542Z",
     "iopub.status.busy": "2022-01-26T14:19:46.804854Z",
     "iopub.status.idle": "2022-01-26T14:19:46.823188Z",
     "shell.execute_reply": "2022-01-26T14:19:46.822651Z",
     "shell.execute_reply.started": "2022-01-26T12:55:58.319873Z"
    },
    "papermill": {
     "duration": 0.076499,
     "end_time": "2022-01-26T14:19:46.823340",
     "exception": false,
     "start_time": "2022-01-26T14:19:46.746841",
     "status": "completed"
    },
    "tags": []
   },
   "outputs": [
    {
     "name": "stderr",
     "output_type": "stream",
     "text": [
      "/var/folders/xg/4dfknv856n51lr83nj9crvnh0000gn/T/ipykernel_48467/1935785697.py:1: SettingWithCopyWarning: \n",
      "A value is trying to be set on a copy of a slice from a DataFrame.\n",
      "Try using .loc[row_indexer,col_indexer] = value instead\n",
      "\n",
      "See the caveats in the documentation: https://pandas.pydata.org/pandas-docs/stable/user_guide/indexing.html#returning-a-view-versus-a-copy\n",
      "  df['tokensnew']=df['tokensnew'].apply(lambda i: ','.join(i))\n"
     ]
    }
   ],
   "source": [
    "df['tokensnew']=df['tokensnew'].apply(lambda i: ','.join(i))\n",
    "\n",
    "df['tags'] = df['Course Name'] +','+ df['Difficulty Level'] +','+ df['tokensnew'] + df['Skills']\n",
    "#df['tags'].iloc[1]\n",
    "#df['tags'] = df['tags'].apply(set)\n"
   ]
  },
  {
   "cell_type": "code",
   "execution_count": 18,
   "id": "eee80759",
   "metadata": {
    "execution": {
     "iopub.execute_input": "2022-01-26T14:19:46.937064Z",
     "iopub.status.busy": "2022-01-26T14:19:46.936365Z",
     "iopub.status.idle": "2022-01-26T14:19:46.948262Z",
     "shell.execute_reply": "2022-01-26T14:19:46.948878Z",
     "shell.execute_reply.started": "2022-01-26T12:56:03.509244Z"
    },
    "papermill": {
     "duration": 0.070316,
     "end_time": "2022-01-26T14:19:46.949049",
     "exception": false,
     "start_time": "2022-01-26T14:19:46.878733",
     "status": "completed"
    },
    "tags": []
   },
   "outputs": [
    {
     "data": {
      "text/html": [
       "<div>\n",
       "<style scoped>\n",
       "    .dataframe tbody tr th:only-of-type {\n",
       "        vertical-align: middle;\n",
       "    }\n",
       "\n",
       "    .dataframe tbody tr th {\n",
       "        vertical-align: top;\n",
       "    }\n",
       "\n",
       "    .dataframe thead th {\n",
       "        text-align: right;\n",
       "    }\n",
       "</style>\n",
       "<table border=\"1\" class=\"dataframe\">\n",
       "  <thead>\n",
       "    <tr style=\"text-align: right;\">\n",
       "      <th></th>\n",
       "      <th>Course Name</th>\n",
       "      <th>Difficulty Level</th>\n",
       "      <th>Course Description</th>\n",
       "      <th>Skills</th>\n",
       "      <th>tokens</th>\n",
       "      <th>tokensnew</th>\n",
       "      <th>tags</th>\n",
       "    </tr>\n",
       "  </thead>\n",
       "  <tbody>\n",
       "    <tr>\n",
       "      <th>0</th>\n",
       "      <td>Write,A,Feature,Length,Screenplay,For,Film,Or,...</td>\n",
       "      <td>Beginner</td>\n",
       "      <td>Write a Full Length Feature Film Script  In th...</td>\n",
       "      <td>Drama  Comedy  peering  screenwriting  film  D...</td>\n",
       "      <td>[full, length, feature, film, script, course, ...</td>\n",
       "      <td>full,length,feature,film,script,screenplay,fil...</td>\n",
       "      <td>Write,A,Feature,Length,Screenplay,For,Film,Or,...</td>\n",
       "    </tr>\n",
       "    <tr>\n",
       "      <th>1</th>\n",
       "      <td>Business,Strategy,Business,Model,Canvas,Analys...</td>\n",
       "      <td>Beginner</td>\n",
       "      <td>By the end of this guided project, you will be...</td>\n",
       "      <td>Finance  business plan  persona user experienc...</td>\n",
       "      <td>[end, project, business, model, canvas, soluti...</td>\n",
       "      <td>business,model,canvas,solution,analysis,resear...</td>\n",
       "      <td>Business,Strategy,Business,Model,Canvas,Analys...</td>\n",
       "    </tr>\n",
       "    <tr>\n",
       "      <th>2</th>\n",
       "      <td>Silicon,Thin,Film,Solar,Cells</td>\n",
       "      <td>Advanced</td>\n",
       "      <td>This course consists of a general presentation...</td>\n",
       "      <td>chemistry  physics  Solar Energy  film  lambda...</td>\n",
       "      <td>[course, presentation, cell, silicon, film, mo...</td>\n",
       "      <td>presentation,cell,silicon,film,mooc,series,eco...</td>\n",
       "      <td>Silicon,Thin,Film,Solar,Cells,Advanced,present...</td>\n",
       "    </tr>\n",
       "    <tr>\n",
       "      <th>3</th>\n",
       "      <td>Finance,for,Managers</td>\n",
       "      <td>Intermediate</td>\n",
       "      <td>When it comes to numbers, there is always more...</td>\n",
       "      <td>accounts receivable  dupont analysis  analysis...</td>\n",
       "      <td>[number, eye, finance, 'story, balance, sheet,...</td>\n",
       "      <td>number,eye,finance,'story,balance,sheet,income...</td>\n",
       "      <td>Finance,for,Managers,Intermediate,number,eye,f...</td>\n",
       "    </tr>\n",
       "    <tr>\n",
       "      <th>4</th>\n",
       "      <td>Retrieve,Data,using,Single-Table,SQL,Queries</td>\n",
       "      <td>Beginner</td>\n",
       "      <td>In this course you'll learn how to effectively...</td>\n",
       "      <td>Data Analysis  select sql  database management...</td>\n",
       "      <td>[course, data, database, table, sql, language,...</td>\n",
       "      <td>data,database,table,sql,language,computer,syst...</td>\n",
       "      <td>Retrieve,Data,using,Single-Table,SQL,Queries,B...</td>\n",
       "    </tr>\n",
       "  </tbody>\n",
       "</table>\n",
       "</div>"
      ],
      "text/plain": [
       "                                         Course Name Difficulty Level  \\\n",
       "0  Write,A,Feature,Length,Screenplay,For,Film,Or,...         Beginner   \n",
       "1  Business,Strategy,Business,Model,Canvas,Analys...         Beginner   \n",
       "2                      Silicon,Thin,Film,Solar,Cells         Advanced   \n",
       "3                               Finance,for,Managers     Intermediate   \n",
       "4       Retrieve,Data,using,Single-Table,SQL,Queries         Beginner   \n",
       "\n",
       "                                  Course Description  \\\n",
       "0  Write a Full Length Feature Film Script  In th...   \n",
       "1  By the end of this guided project, you will be...   \n",
       "2  This course consists of a general presentation...   \n",
       "3  When it comes to numbers, there is always more...   \n",
       "4  In this course you'll learn how to effectively...   \n",
       "\n",
       "                                              Skills  \\\n",
       "0  Drama  Comedy  peering  screenwriting  film  D...   \n",
       "1  Finance  business plan  persona user experienc...   \n",
       "2  chemistry  physics  Solar Energy  film  lambda...   \n",
       "3  accounts receivable  dupont analysis  analysis...   \n",
       "4  Data Analysis  select sql  database management...   \n",
       "\n",
       "                                              tokens  \\\n",
       "0  [full, length, feature, film, script, course, ...   \n",
       "1  [end, project, business, model, canvas, soluti...   \n",
       "2  [course, presentation, cell, silicon, film, mo...   \n",
       "3  [number, eye, finance, 'story, balance, sheet,...   \n",
       "4  [course, data, database, table, sql, language,...   \n",
       "\n",
       "                                           tokensnew  \\\n",
       "0  full,length,feature,film,script,screenplay,fil...   \n",
       "1  business,model,canvas,solution,analysis,resear...   \n",
       "2  presentation,cell,silicon,film,mooc,series,eco...   \n",
       "3  number,eye,finance,'story,balance,sheet,income...   \n",
       "4  data,database,table,sql,language,computer,syst...   \n",
       "\n",
       "                                                tags  \n",
       "0  Write,A,Feature,Length,Screenplay,For,Film,Or,...  \n",
       "1  Business,Strategy,Business,Model,Canvas,Analys...  \n",
       "2  Silicon,Thin,Film,Solar,Cells,Advanced,present...  \n",
       "3  Finance,for,Managers,Intermediate,number,eye,f...  \n",
       "4  Retrieve,Data,using,Single-Table,SQL,Queries,B...  "
      ]
     },
     "execution_count": 18,
     "metadata": {},
     "output_type": "execute_result"
    }
   ],
   "source": [
    "df.head(5)"
   ]
  },
  {
   "cell_type": "code",
   "execution_count": 19,
   "id": "66879f0c",
   "metadata": {
    "execution": {
     "iopub.execute_input": "2022-01-26T14:19:47.064568Z",
     "iopub.status.busy": "2022-01-26T14:19:47.063864Z",
     "iopub.status.idle": "2022-01-26T14:19:47.068955Z",
     "shell.execute_reply": "2022-01-26T14:19:47.069577Z",
     "shell.execute_reply.started": "2022-01-26T12:56:19.913202Z"
    },
    "papermill": {
     "duration": 0.064563,
     "end_time": "2022-01-26T14:19:47.069883",
     "exception": false,
     "start_time": "2022-01-26T14:19:47.005320",
     "status": "completed"
    },
    "tags": []
   },
   "outputs": [
    {
     "data": {
      "text/plain": [
       "'Business,Strategy,Business,Model,Canvas,Analysis,with,Miro,Beginner,business,model,canvas,solution,analysis,research,data,element,product,service,result,business,venture,ability,model,strategy,product,development,miro,platform,business,proposition,practice,result,analysis,research,result,value,business,model,sectionFinance  business plan  persona user experience  business model canvas  Planning  Business  project  Product Development  presentation  Strategy business business-strategy'"
      ]
     },
     "execution_count": 19,
     "metadata": {},
     "output_type": "execute_result"
    }
   ],
   "source": [
    "df['tags'].iloc[1]"
   ]
  },
  {
   "cell_type": "markdown",
   "id": "40ebb711",
   "metadata": {
    "papermill": {
     "duration": 0.055116,
     "end_time": "2022-01-26T14:19:47.180933",
     "exception": false,
     "start_time": "2022-01-26T14:19:47.125817",
     "status": "completed"
    },
    "tags": []
   },
   "source": [
    "# Dataframe to be used"
   ]
  },
  {
   "cell_type": "code",
   "execution_count": 20,
   "id": "b3807261",
   "metadata": {
    "execution": {
     "iopub.execute_input": "2022-01-26T14:19:47.295634Z",
     "iopub.status.busy": "2022-01-26T14:19:47.294976Z",
     "iopub.status.idle": "2022-01-26T14:19:47.300427Z",
     "shell.execute_reply": "2022-01-26T14:19:47.300988Z",
     "shell.execute_reply.started": "2022-01-26T12:56:47.650782Z"
    },
    "papermill": {
     "duration": 0.064683,
     "end_time": "2022-01-26T14:19:47.301174",
     "exception": false,
     "start_time": "2022-01-26T14:19:47.236491",
     "status": "completed"
    },
    "tags": []
   },
   "outputs": [],
   "source": [
    "new_df = df[['Course Name','tags']]  #for this analysis, difficulty level is included in tags as a feature. KIV whether to pull out as a filter instead."
   ]
  },
  {
   "cell_type": "code",
   "execution_count": 21,
   "id": "e4f516b3",
   "metadata": {
    "execution": {
     "iopub.execute_input": "2022-01-26T14:19:47.423897Z",
     "iopub.status.busy": "2022-01-26T14:19:47.423181Z",
     "iopub.status.idle": "2022-01-26T14:19:47.425800Z",
     "shell.execute_reply": "2022-01-26T14:19:47.426278Z",
     "shell.execute_reply.started": "2022-01-26T12:56:53.601235Z"
    },
    "papermill": {
     "duration": 0.069032,
     "end_time": "2022-01-26T14:19:47.426446",
     "exception": false,
     "start_time": "2022-01-26T14:19:47.357414",
     "status": "completed"
    },
    "tags": []
   },
   "outputs": [
    {
     "data": {
      "text/html": [
       "<div>\n",
       "<style scoped>\n",
       "    .dataframe tbody tr th:only-of-type {\n",
       "        vertical-align: middle;\n",
       "    }\n",
       "\n",
       "    .dataframe tbody tr th {\n",
       "        vertical-align: top;\n",
       "    }\n",
       "\n",
       "    .dataframe thead th {\n",
       "        text-align: right;\n",
       "    }\n",
       "</style>\n",
       "<table border=\"1\" class=\"dataframe\">\n",
       "  <thead>\n",
       "    <tr style=\"text-align: right;\">\n",
       "      <th></th>\n",
       "      <th>Course Name</th>\n",
       "      <th>tags</th>\n",
       "    </tr>\n",
       "  </thead>\n",
       "  <tbody>\n",
       "    <tr>\n",
       "      <th>0</th>\n",
       "      <td>Write,A,Feature,Length,Screenplay,For,Film,Or,...</td>\n",
       "      <td>Write,A,Feature,Length,Screenplay,For,Film,Or,...</td>\n",
       "    </tr>\n",
       "    <tr>\n",
       "      <th>1</th>\n",
       "      <td>Business,Strategy,Business,Model,Canvas,Analys...</td>\n",
       "      <td>Business,Strategy,Business,Model,Canvas,Analys...</td>\n",
       "    </tr>\n",
       "    <tr>\n",
       "      <th>2</th>\n",
       "      <td>Silicon,Thin,Film,Solar,Cells</td>\n",
       "      <td>Silicon,Thin,Film,Solar,Cells,Advanced,present...</td>\n",
       "    </tr>\n",
       "    <tr>\n",
       "      <th>3</th>\n",
       "      <td>Finance,for,Managers</td>\n",
       "      <td>Finance,for,Managers,Intermediate,number,eye,f...</td>\n",
       "    </tr>\n",
       "    <tr>\n",
       "      <th>4</th>\n",
       "      <td>Retrieve,Data,using,Single-Table,SQL,Queries</td>\n",
       "      <td>Retrieve,Data,using,Single-Table,SQL,Queries,B...</td>\n",
       "    </tr>\n",
       "  </tbody>\n",
       "</table>\n",
       "</div>"
      ],
      "text/plain": [
       "                                         Course Name  \\\n",
       "0  Write,A,Feature,Length,Screenplay,For,Film,Or,...   \n",
       "1  Business,Strategy,Business,Model,Canvas,Analys...   \n",
       "2                      Silicon,Thin,Film,Solar,Cells   \n",
       "3                               Finance,for,Managers   \n",
       "4       Retrieve,Data,using,Single-Table,SQL,Queries   \n",
       "\n",
       "                                                tags  \n",
       "0  Write,A,Feature,Length,Screenplay,For,Film,Or,...  \n",
       "1  Business,Strategy,Business,Model,Canvas,Analys...  \n",
       "2  Silicon,Thin,Film,Solar,Cells,Advanced,present...  \n",
       "3  Finance,for,Managers,Intermediate,number,eye,f...  \n",
       "4  Retrieve,Data,using,Single-Table,SQL,Queries,B...  "
      ]
     },
     "execution_count": 21,
     "metadata": {},
     "output_type": "execute_result"
    }
   ],
   "source": [
    "new_df.head(5)"
   ]
  },
  {
   "cell_type": "code",
   "execution_count": 22,
   "id": "f716f14c",
   "metadata": {
    "execution": {
     "iopub.execute_input": "2022-01-26T14:19:47.543759Z",
     "iopub.status.busy": "2022-01-26T14:19:47.543010Z",
     "iopub.status.idle": "2022-01-26T14:19:47.568840Z",
     "shell.execute_reply": "2022-01-26T14:19:47.569353Z",
     "shell.execute_reply.started": "2022-01-26T12:57:29.758901Z"
    },
    "papermill": {
     "duration": 0.08545,
     "end_time": "2022-01-26T14:19:47.569554",
     "exception": false,
     "start_time": "2022-01-26T14:19:47.484104",
     "status": "completed"
    },
    "tags": []
   },
   "outputs": [
    {
     "name": "stderr",
     "output_type": "stream",
     "text": [
      "/var/folders/xg/4dfknv856n51lr83nj9crvnh0000gn/T/ipykernel_48467/2826948580.py:1: SettingWithCopyWarning: \n",
      "A value is trying to be set on a copy of a slice from a DataFrame.\n",
      "Try using .loc[row_indexer,col_indexer] = value instead\n",
      "\n",
      "See the caveats in the documentation: https://pandas.pydata.org/pandas-docs/stable/user_guide/indexing.html#returning-a-view-versus-a-copy\n",
      "  new_df['tags'] = new_df['tags'].str.replace(',',' ')\n"
     ]
    }
   ],
   "source": [
    "new_df['tags'] = new_df['tags'].str.replace(',',' ')"
   ]
  },
  {
   "cell_type": "code",
   "execution_count": 23,
   "id": "38d9e830",
   "metadata": {
    "execution": {
     "iopub.execute_input": "2022-01-26T14:19:47.688611Z",
     "iopub.status.busy": "2022-01-26T14:19:47.687894Z",
     "iopub.status.idle": "2022-01-26T14:19:47.695125Z",
     "shell.execute_reply": "2022-01-26T14:19:47.695760Z",
     "shell.execute_reply.started": "2022-01-26T12:58:08.296915Z"
    },
    "papermill": {
     "duration": 0.069347,
     "end_time": "2022-01-26T14:19:47.695936",
     "exception": false,
     "start_time": "2022-01-26T14:19:47.626589",
     "status": "completed"
    },
    "tags": []
   },
   "outputs": [
    {
     "name": "stderr",
     "output_type": "stream",
     "text": [
      "/var/folders/xg/4dfknv856n51lr83nj9crvnh0000gn/T/ipykernel_48467/2506741234.py:1: SettingWithCopyWarning: \n",
      "A value is trying to be set on a copy of a slice from a DataFrame.\n",
      "Try using .loc[row_indexer,col_indexer] = value instead\n",
      "\n",
      "See the caveats in the documentation: https://pandas.pydata.org/pandas-docs/stable/user_guide/indexing.html#returning-a-view-versus-a-copy\n",
      "  new_df['Course Name'] = new_df['Course Name'].str.replace(',',' ')\n"
     ]
    }
   ],
   "source": [
    "new_df['Course Name'] = new_df['Course Name'].str.replace(',',' ')"
   ]
  },
  {
   "cell_type": "code",
   "execution_count": 24,
   "id": "3af16b3c",
   "metadata": {
    "execution": {
     "iopub.execute_input": "2022-01-26T14:19:47.817556Z",
     "iopub.status.busy": "2022-01-26T14:19:47.816533Z",
     "iopub.status.idle": "2022-01-26T14:19:47.827197Z",
     "shell.execute_reply": "2022-01-26T14:19:47.827814Z",
     "shell.execute_reply.started": "2022-01-26T12:58:11.491014Z"
    },
    "papermill": {
     "duration": 0.073413,
     "end_time": "2022-01-26T14:19:47.828002",
     "exception": false,
     "start_time": "2022-01-26T14:19:47.754589",
     "status": "completed"
    },
    "tags": []
   },
   "outputs": [
    {
     "name": "stderr",
     "output_type": "stream",
     "text": [
      "/Users/somethingcreative-7/opt/anaconda3/lib/python3.9/site-packages/pandas/core/frame.py:5039: SettingWithCopyWarning: \n",
      "A value is trying to be set on a copy of a slice from a DataFrame\n",
      "\n",
      "See the caveats in the documentation: https://pandas.pydata.org/pandas-docs/stable/user_guide/indexing.html#returning-a-view-versus-a-copy\n",
      "  return super().rename(\n"
     ]
    }
   ],
   "source": [
    "new_df.rename(columns = {'Course Name':'course_name'}, inplace = True)"
   ]
  },
  {
   "cell_type": "code",
   "execution_count": 25,
   "id": "9c65075a",
   "metadata": {
    "execution": {
     "iopub.execute_input": "2022-01-26T14:19:47.949931Z",
     "iopub.status.busy": "2022-01-26T14:19:47.948954Z",
     "iopub.status.idle": "2022-01-26T14:19:47.977325Z",
     "shell.execute_reply": "2022-01-26T14:19:47.977969Z",
     "shell.execute_reply.started": "2022-01-26T12:58:52.731609Z"
    },
    "papermill": {
     "duration": 0.090638,
     "end_time": "2022-01-26T14:19:47.978152",
     "exception": false,
     "start_time": "2022-01-26T14:19:47.887514",
     "status": "completed"
    },
    "tags": []
   },
   "outputs": [
    {
     "name": "stderr",
     "output_type": "stream",
     "text": [
      "/var/folders/xg/4dfknv856n51lr83nj9crvnh0000gn/T/ipykernel_48467/172956468.py:1: SettingWithCopyWarning: \n",
      "A value is trying to be set on a copy of a slice from a DataFrame.\n",
      "Try using .loc[row_indexer,col_indexer] = value instead\n",
      "\n",
      "See the caveats in the documentation: https://pandas.pydata.org/pandas-docs/stable/user_guide/indexing.html#returning-a-view-versus-a-copy\n",
      "  new_df['tags'] = new_df['tags'].apply(lambda x:x.lower()) #lower casing the tags column\n"
     ]
    }
   ],
   "source": [
    "new_df['tags'] = new_df['tags'].apply(lambda x:x.lower()) #lower casing the tags column"
   ]
  },
  {
   "cell_type": "code",
   "execution_count": 26,
   "id": "b2bc5584",
   "metadata": {
    "execution": {
     "iopub.execute_input": "2022-01-26T14:19:48.112723Z",
     "iopub.status.busy": "2022-01-26T14:19:48.112045Z",
     "iopub.status.idle": "2022-01-26T14:19:48.121076Z",
     "shell.execute_reply": "2022-01-26T14:19:48.121592Z",
     "shell.execute_reply.started": "2022-01-26T12:58:55.635891Z"
    },
    "papermill": {
     "duration": 0.069732,
     "end_time": "2022-01-26T14:19:48.121783",
     "exception": false,
     "start_time": "2022-01-26T14:19:48.052051",
     "status": "completed"
    },
    "tags": []
   },
   "outputs": [
    {
     "data": {
      "text/html": [
       "<div>\n",
       "<style scoped>\n",
       "    .dataframe tbody tr th:only-of-type {\n",
       "        vertical-align: middle;\n",
       "    }\n",
       "\n",
       "    .dataframe tbody tr th {\n",
       "        vertical-align: top;\n",
       "    }\n",
       "\n",
       "    .dataframe thead th {\n",
       "        text-align: right;\n",
       "    }\n",
       "</style>\n",
       "<table border=\"1\" class=\"dataframe\">\n",
       "  <thead>\n",
       "    <tr style=\"text-align: right;\">\n",
       "      <th></th>\n",
       "      <th>course_name</th>\n",
       "      <th>tags</th>\n",
       "    </tr>\n",
       "  </thead>\n",
       "  <tbody>\n",
       "    <tr>\n",
       "      <th>0</th>\n",
       "      <td>Write A Feature Length Screenplay For Film Or ...</td>\n",
       "      <td>write a feature length screenplay for film or ...</td>\n",
       "    </tr>\n",
       "    <tr>\n",
       "      <th>1</th>\n",
       "      <td>Business Strategy Business Model Canvas Analys...</td>\n",
       "      <td>business strategy business model canvas analys...</td>\n",
       "    </tr>\n",
       "    <tr>\n",
       "      <th>2</th>\n",
       "      <td>Silicon Thin Film Solar Cells</td>\n",
       "      <td>silicon thin film solar cells advanced present...</td>\n",
       "    </tr>\n",
       "    <tr>\n",
       "      <th>3</th>\n",
       "      <td>Finance for Managers</td>\n",
       "      <td>finance for managers intermediate number eye f...</td>\n",
       "    </tr>\n",
       "    <tr>\n",
       "      <th>4</th>\n",
       "      <td>Retrieve Data using Single-Table SQL Queries</td>\n",
       "      <td>retrieve data using single-table sql queries b...</td>\n",
       "    </tr>\n",
       "  </tbody>\n",
       "</table>\n",
       "</div>"
      ],
      "text/plain": [
       "                                         course_name  \\\n",
       "0  Write A Feature Length Screenplay For Film Or ...   \n",
       "1  Business Strategy Business Model Canvas Analys...   \n",
       "2                      Silicon Thin Film Solar Cells   \n",
       "3                               Finance for Managers   \n",
       "4       Retrieve Data using Single-Table SQL Queries   \n",
       "\n",
       "                                                tags  \n",
       "0  write a feature length screenplay for film or ...  \n",
       "1  business strategy business model canvas analys...  \n",
       "2  silicon thin film solar cells advanced present...  \n",
       "3  finance for managers intermediate number eye f...  \n",
       "4  retrieve data using single-table sql queries b...  "
      ]
     },
     "execution_count": 26,
     "metadata": {},
     "output_type": "execute_result"
    }
   ],
   "source": [
    "new_df.head(5)"
   ]
  },
  {
   "cell_type": "code",
   "execution_count": 27,
   "id": "66db7225",
   "metadata": {
    "execution": {
     "iopub.execute_input": "2022-01-26T14:19:48.240478Z",
     "iopub.status.busy": "2022-01-26T14:19:48.239827Z",
     "iopub.status.idle": "2022-01-26T14:19:48.244379Z",
     "shell.execute_reply": "2022-01-26T14:19:48.244875Z",
     "shell.execute_reply.started": "2022-01-26T12:59:36.995288Z"
    },
    "papermill": {
     "duration": 0.065828,
     "end_time": "2022-01-26T14:19:48.245060",
     "exception": false,
     "start_time": "2022-01-26T14:19:48.179232",
     "status": "completed"
    },
    "tags": []
   },
   "outputs": [
    {
     "data": {
      "text/plain": [
       "(3423, 2)"
      ]
     },
     "execution_count": 27,
     "metadata": {},
     "output_type": "execute_result"
    }
   ],
   "source": [
    "new_df.shape #3522 courses with tags and 2 columns (course_name and tags)"
   ]
  },
  {
   "cell_type": "code",
   "execution_count": 28,
   "id": "37dd065b",
   "metadata": {},
   "outputs": [],
   "source": [
    "new_df.to_excel(\"coursefeaturesoutput.xlsx\") "
   ]
  },
  {
   "cell_type": "code",
   "execution_count": null,
   "id": "339751c5",
   "metadata": {},
   "outputs": [],
   "source": [
    "#end"
   ]
  }
 ],
 "metadata": {
  "kernelspec": {
   "display_name": "Python 3 (ipykernel)",
   "language": "python",
   "name": "python3"
  },
  "language_info": {
   "codemirror_mode": {
    "name": "ipython",
    "version": 3
   },
   "file_extension": ".py",
   "mimetype": "text/x-python",
   "name": "python",
   "nbconvert_exporter": "python",
   "pygments_lexer": "ipython3",
   "version": "3.9.7"
  },
  "papermill": {
   "default_parameters": {},
   "duration": 40.65955,
   "end_time": "2022-01-26T14:20:13.730648",
   "environment_variables": {},
   "exception": null,
   "input_path": "__notebook__.ipynb",
   "output_path": "__notebook__.ipynb",
   "parameters": {},
   "start_time": "2022-01-26T14:19:33.071098",
   "version": "2.3.3"
  }
 },
 "nbformat": 4,
 "nbformat_minor": 5
}
